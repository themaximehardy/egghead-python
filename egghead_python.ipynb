{
  "nbformat": 4,
  "nbformat_minor": 0,
  "metadata": {
    "colab": {
      "name": "egghead-python.ipynb",
      "provenance": [],
      "authorship_tag": "ABX9TyNpsoUiE8L9dJR2jzXEK7Ac",
      "include_colab_link": true
    },
    "kernelspec": {
      "name": "python3",
      "display_name": "Python 3"
    }
  },
  "cells": [
    {
      "cell_type": "markdown",
      "metadata": {
        "id": "view-in-github",
        "colab_type": "text"
      },
      "source": [
        "<a href=\"https://colab.research.google.com/github/themaximehardy/egghead-python/blob/master/egghead_python.ipynb\" target=\"_parent\"><img src=\"https://colab.research.google.com/assets/colab-badge.svg\" alt=\"Open In Colab\"/></a>"
      ]
    },
    {
      "cell_type": "markdown",
      "metadata": {
        "id": "jZg4s0igt7ea",
        "colab_type": "text"
      },
      "source": [
        "# Introduction\n",
        "From [egghead.io Python course](https://egghead.io/lessons/python-perform-math-operations-in-python) • [GitHub](https://github.com/rekibnikufesin/python-intro)"
      ]
    },
    {
      "cell_type": "code",
      "metadata": {
        "id": "4MnGU5oHMC_k",
        "colab_type": "code",
        "colab": {
          "base_uri": "https://localhost:8080/",
          "height": 34
        },
        "outputId": "615a6234-5466-4a95-9edc-4f7fb49e693d"
      },
      "source": [
        "2 + 2"
      ],
      "execution_count": 4,
      "outputs": [
        {
          "output_type": "execute_result",
          "data": {
            "text/plain": [
              "4"
            ]
          },
          "metadata": {
            "tags": []
          },
          "execution_count": 4
        }
      ]
    },
    {
      "cell_type": "code",
      "metadata": {
        "id": "JA-Y7lW2Okl_",
        "colab_type": "code",
        "colab": {
          "base_uri": "https://localhost:8080/",
          "height": 34
        },
        "outputId": "17bf1446-1022-491c-cb74-15fe9c3b6b6d"
      },
      "source": [
        "print(\"Hello world\")"
      ],
      "execution_count": 7,
      "outputs": [
        {
          "output_type": "stream",
          "text": [
            "Hello world\n"
          ],
          "name": "stdout"
        }
      ]
    },
    {
      "cell_type": "code",
      "metadata": {
        "id": "sau8VNXST8o4",
        "colab_type": "code",
        "colab": {
          "base_uri": "https://localhost:8080/",
          "height": 34
        },
        "outputId": "98570d1b-9420-4f23-d7e3-728116a0aabb"
      },
      "source": [
        "import datetime as dt\n",
        "now = dt.datetime.now()\n",
        "print(now)"
      ],
      "execution_count": 11,
      "outputs": [
        {
          "output_type": "stream",
          "text": [
            "2020-05-02 12:16:26.566110\n"
          ],
          "name": "stdout"
        }
      ]
    },
    {
      "cell_type": "code",
      "metadata": {
        "id": "Ic8l5_6NULtc",
        "colab_type": "code",
        "colab": {
          "base_uri": "https://localhost:8080/",
          "height": 34
        },
        "outputId": "9a63c9e4-e077-4157-8a5b-2da1759c5ff2"
      },
      "source": [
        "def add(num1, num2):\n",
        "  return num1 + num2\n",
        "\n",
        "add(1, 2)"
      ],
      "execution_count": 13,
      "outputs": [
        {
          "output_type": "execute_result",
          "data": {
            "text/plain": [
              "3"
            ]
          },
          "metadata": {
            "tags": []
          },
          "execution_count": 13
        }
      ]
    },
    {
      "cell_type": "markdown",
      "metadata": {
        "id": "AUyF0Uu3tj2B",
        "colab_type": "text"
      },
      "source": [
        "# Check for None (Null)"
      ]
    },
    {
      "cell_type": "code",
      "metadata": {
        "id": "lZp8g5aiUW4d",
        "colab_type": "code",
        "colab": {
          "base_uri": "https://localhost:8080/",
          "height": 34
        },
        "outputId": "0435bd48-bdd6-4122-921f-4611a931b520"
      },
      "source": [
        "foo = None\n",
        "if foo is None:\n",
        "  print(\"It's not there\")"
      ],
      "execution_count": 14,
      "outputs": [
        {
          "output_type": "stream",
          "text": [
            "It's not there\n"
          ],
          "name": "stdout"
        }
      ]
    },
    {
      "cell_type": "code",
      "metadata": {
        "id": "GVvs_nQaUz80",
        "colab_type": "code",
        "colab": {
          "base_uri": "https://localhost:8080/",
          "height": 34
        },
        "outputId": "16866e96-db28-478c-89c7-acf09ff1fd53"
      },
      "source": [
        "if foo == None:\n",
        "  print(\"It's still not there\")"
      ],
      "execution_count": 15,
      "outputs": [
        {
          "output_type": "stream",
          "text": [
            "It's still not there\n"
          ],
          "name": "stdout"
        }
      ]
    },
    {
      "cell_type": "markdown",
      "metadata": {
        "id": "MvG6TfvUVSez",
        "colab_type": "text"
      },
      "source": [
        "The `is` is better than the `==`. `is` does an id comparison or if we use the `==` it performs a lookup (it iterates through it).  "
      ]
    },
    {
      "cell_type": "code",
      "metadata": {
        "id": "UlFryYbnVGCe",
        "colab_type": "code",
        "colab": {
          "base_uri": "https://localhost:8080/",
          "height": 34
        },
        "outputId": "cb161f94-58ae-4da6-8098-23de08216bdd"
      },
      "source": [
        "id(foo)"
      ],
      "execution_count": 16,
      "outputs": [
        {
          "output_type": "execute_result",
          "data": {
            "text/plain": [
              "10306432"
            ]
          },
          "metadata": {
            "tags": []
          },
          "execution_count": 16
        }
      ]
    },
    {
      "cell_type": "markdown",
      "metadata": {
        "id": "P5PiggICqwpA",
        "colab_type": "text"
      },
      "source": [
        "# Understand Mutable vs. Immutable objects"
      ]
    },
    {
      "cell_type": "markdown",
      "metadata": {
        "id": "OrkGidgcuNaW",
        "colab_type": "text"
      },
      "source": [
        "Everything in Python has an id and a value. The list and the dictionaries are mutable (but keep the same id)."
      ]
    },
    {
      "cell_type": "code",
      "metadata": {
        "id": "efZ_4x84VIoz",
        "colab_type": "code",
        "colab": {
          "base_uri": "https://localhost:8080/",
          "height": 34
        },
        "outputId": "97beecff-8477-403b-e9ef-d05655c58960"
      },
      "source": [
        "b = []\n",
        "id(b)"
      ],
      "execution_count": 22,
      "outputs": [
        {
          "output_type": "execute_result",
          "data": {
            "text/plain": [
              "140707507769096"
            ]
          },
          "metadata": {
            "tags": []
          },
          "execution_count": 22
        }
      ]
    },
    {
      "cell_type": "code",
      "metadata": {
        "id": "PgSoNo9IrGhE",
        "colab_type": "code",
        "colab": {
          "base_uri": "https://localhost:8080/",
          "height": 34
        },
        "outputId": "fba86557-8f77-48bf-a9a9-ad89f31ffca0"
      },
      "source": [
        "b.append(3)\n",
        "b"
      ],
      "execution_count": 23,
      "outputs": [
        {
          "output_type": "execute_result",
          "data": {
            "text/plain": [
              "[3]"
            ]
          },
          "metadata": {
            "tags": []
          },
          "execution_count": 23
        }
      ]
    },
    {
      "cell_type": "code",
      "metadata": {
        "id": "purY5AkQrK1l",
        "colab_type": "code",
        "colab": {
          "base_uri": "https://localhost:8080/",
          "height": 34
        },
        "outputId": "c4132c05-abf3-4888-bb43-ca1efac4e8cf"
      },
      "source": [
        "id(b)"
      ],
      "execution_count": 25,
      "outputs": [
        {
          "output_type": "execute_result",
          "data": {
            "text/plain": [
              "140707507769096"
            ]
          },
          "metadata": {
            "tags": []
          },
          "execution_count": 25
        }
      ]
    },
    {
      "cell_type": "code",
      "metadata": {
        "id": "IHGEbdcDrqPL",
        "colab_type": "code",
        "colab": {
          "base_uri": "https://localhost:8080/",
          "height": 34
        },
        "outputId": "f6a52641-e022-4cc7-c46c-4ecb00f2184c"
      },
      "source": [
        "a = 4\n",
        "id(a)"
      ],
      "execution_count": 26,
      "outputs": [
        {
          "output_type": "execute_result",
          "data": {
            "text/plain": [
              "10914592"
            ]
          },
          "metadata": {
            "tags": []
          },
          "execution_count": 26
        }
      ]
    },
    {
      "cell_type": "code",
      "metadata": {
        "id": "FY4ZSeeBruAE",
        "colab_type": "code",
        "colab": {
          "base_uri": "https://localhost:8080/",
          "height": 34
        },
        "outputId": "2e9ed289-a15b-41c8-9c00-f1107a3e2609"
      },
      "source": [
        "a = a + 1\n",
        "id(a)"
      ],
      "execution_count": 32,
      "outputs": [
        {
          "output_type": "execute_result",
          "data": {
            "text/plain": [
              "10914752"
            ]
          },
          "metadata": {
            "tags": []
          },
          "execution_count": 32
        }
      ]
    },
    {
      "cell_type": "markdown",
      "metadata": {
        "id": "Jd6WcNFRr7st",
        "colab_type": "text"
      },
      "source": [
        "☝️ the a variable has another id. Strings, integers and tuples are immutable. You cannot overwrite the values ([Medium article](https://medium.com/datadriveninvestor/mutable-and-immutable-python-2093deeac8d9))."
      ]
    },
    {
      "cell_type": "code",
      "metadata": {
        "id": "TiU2BWPLr1lb",
        "colab_type": "code",
        "colab": {
          "base_uri": "https://localhost:8080/",
          "height": 34
        },
        "outputId": "f0a6a9a1-17b4-469d-d1f9-7d98c53f0263"
      },
      "source": [
        "phrase = \"Hello\"\n",
        "id(phrase)"
      ],
      "execution_count": 33,
      "outputs": [
        {
          "output_type": "execute_result",
          "data": {
            "text/plain": [
              "140707507783080"
            ]
          },
          "metadata": {
            "tags": []
          },
          "execution_count": 33
        }
      ]
    },
    {
      "cell_type": "code",
      "metadata": {
        "id": "q_vkLOmJs5Hg",
        "colab_type": "code",
        "colab": {
          "base_uri": "https://localhost:8080/",
          "height": 34
        },
        "outputId": "8918bdce-9706-449d-fe15-bc559e8479ee"
      },
      "source": [
        "phrase = \"World\"\n",
        "id(phrase)"
      ],
      "execution_count": 34,
      "outputs": [
        {
          "output_type": "execute_result",
          "data": {
            "text/plain": [
              "140707507341048"
            ]
          },
          "metadata": {
            "tags": []
          },
          "execution_count": 34
        }
      ]
    },
    {
      "cell_type": "markdown",
      "metadata": {
        "id": "6juy_HNItS9u",
        "colab_type": "text"
      },
      "source": [
        "# Math Operations"
      ]
    },
    {
      "cell_type": "code",
      "metadata": {
        "id": "91A66Puqtcjz",
        "colab_type": "code",
        "colab": {
          "base_uri": "https://localhost:8080/",
          "height": 34
        },
        "outputId": "5a469975-8b0f-43fe-b1f7-6b714d87f6f5"
      },
      "source": [
        "3 + 4"
      ],
      "execution_count": 35,
      "outputs": [
        {
          "output_type": "execute_result",
          "data": {
            "text/plain": [
              "7"
            ]
          },
          "metadata": {
            "tags": []
          },
          "execution_count": 35
        }
      ]
    },
    {
      "cell_type": "code",
      "metadata": {
        "id": "N2unWw64uQsI",
        "colab_type": "code",
        "colab": {
          "base_uri": "https://localhost:8080/",
          "height": 34
        },
        "outputId": "767eb5e9-2520-4bbe-df4e-b6134edd643b"
      },
      "source": [
        "3 - 4"
      ],
      "execution_count": 36,
      "outputs": [
        {
          "output_type": "execute_result",
          "data": {
            "text/plain": [
              "-1"
            ]
          },
          "metadata": {
            "tags": []
          },
          "execution_count": 36
        }
      ]
    },
    {
      "cell_type": "code",
      "metadata": {
        "id": "c8h-BbSfuR8k",
        "colab_type": "code",
        "colab": {
          "base_uri": "https://localhost:8080/",
          "height": 34
        },
        "outputId": "846075db-9432-4298-9b1a-9397c955a1de"
      },
      "source": [
        "3 * 4"
      ],
      "execution_count": 37,
      "outputs": [
        {
          "output_type": "execute_result",
          "data": {
            "text/plain": [
              "12"
            ]
          },
          "metadata": {
            "tags": []
          },
          "execution_count": 37
        }
      ]
    },
    {
      "cell_type": "code",
      "metadata": {
        "id": "GIaL7J9SuTBM",
        "colab_type": "code",
        "colab": {
          "base_uri": "https://localhost:8080/",
          "height": 34
        },
        "outputId": "e29c8293-a796-4972-a3b2-ed1815cfc940"
      },
      "source": [
        "3 / 4"
      ],
      "execution_count": 43,
      "outputs": [
        {
          "output_type": "execute_result",
          "data": {
            "text/plain": [
              "0.75"
            ]
          },
          "metadata": {
            "tags": []
          },
          "execution_count": 43
        }
      ]
    },
    {
      "cell_type": "markdown",
      "metadata": {
        "id": "NPcjW1kmu7Q8",
        "colab_type": "text"
      },
      "source": [
        "Python 2 `3 / 4` = 0 you need to do `3 / 4.` = 0.75 or using Python 3.\n"
      ]
    },
    {
      "cell_type": "code",
      "metadata": {
        "id": "91KGE6Feu4PQ",
        "colab_type": "code",
        "colab": {
          "base_uri": "https://localhost:8080/",
          "height": 34
        },
        "outputId": "7c80a949-aecd-4ea8-c96e-8af5ce424e22"
      },
      "source": [
        "3 // 4"
      ],
      "execution_count": 44,
      "outputs": [
        {
          "output_type": "execute_result",
          "data": {
            "text/plain": [
              "0"
            ]
          },
          "metadata": {
            "tags": []
          },
          "execution_count": 44
        }
      ]
    },
    {
      "cell_type": "code",
      "metadata": {
        "id": "68Fg5FsTuUL9",
        "colab_type": "code",
        "colab": {
          "base_uri": "https://localhost:8080/",
          "height": 34
        },
        "outputId": "b7ca7e72-3548-4f1e-b690-68e936bfca75"
      },
      "source": [
        "3 % 4"
      ],
      "execution_count": 39,
      "outputs": [
        {
          "output_type": "execute_result",
          "data": {
            "text/plain": [
              "3"
            ]
          },
          "metadata": {
            "tags": []
          },
          "execution_count": 39
        }
      ]
    },
    {
      "cell_type": "code",
      "metadata": {
        "id": "QEBha_jFvRLn",
        "colab_type": "code",
        "colab": {
          "base_uri": "https://localhost:8080/",
          "height": 34
        },
        "outputId": "96ff71ae-8690-4e90-c007-779b5c1587fc"
      },
      "source": [
        "a = 3\n",
        "b = 4\n",
        "a + b"
      ],
      "execution_count": 45,
      "outputs": [
        {
          "output_type": "execute_result",
          "data": {
            "text/plain": [
              "7"
            ]
          },
          "metadata": {
            "tags": []
          },
          "execution_count": 45
        }
      ]
    },
    {
      "cell_type": "code",
      "metadata": {
        "id": "9ydpcUCKvUj9",
        "colab_type": "code",
        "colab": {
          "base_uri": "https://localhost:8080/",
          "height": 34
        },
        "outputId": "abcb468b-705b-43aa-f840-26258e4deee1"
      },
      "source": [
        "a / b"
      ],
      "execution_count": 46,
      "outputs": [
        {
          "output_type": "execute_result",
          "data": {
            "text/plain": [
              "0.75"
            ]
          },
          "metadata": {
            "tags": []
          },
          "execution_count": 46
        }
      ]
    },
    {
      "cell_type": "code",
      "metadata": {
        "id": "7P23GasevVos",
        "colab_type": "code",
        "colab": {
          "base_uri": "https://localhost:8080/",
          "height": 34
        },
        "outputId": "dbb8bbc8-de1c-45d9-d1a9-e67fb1315bc8"
      },
      "source": [
        "a // b"
      ],
      "execution_count": 47,
      "outputs": [
        {
          "output_type": "execute_result",
          "data": {
            "text/plain": [
              "0"
            ]
          },
          "metadata": {
            "tags": []
          },
          "execution_count": 47
        }
      ]
    },
    {
      "cell_type": "markdown",
      "metadata": {
        "id": "ikLMo5UuvYbH",
        "colab_type": "text"
      },
      "source": [
        "Naming convention in Python `lowercase` and if multiple words => `sum_of_two_numbers`"
      ]
    },
    {
      "cell_type": "markdown",
      "metadata": {
        "id": "gfboUDTqvsxb",
        "colab_type": "text"
      },
      "source": [
        "# Format Strings"
      ]
    },
    {
      "cell_type": "code",
      "metadata": {
        "id": "VtkucAR8vy96",
        "colab_type": "code",
        "colab": {
          "base_uri": "https://localhost:8080/",
          "height": 34
        },
        "outputId": "0c1e2d51-f1b8-459b-93ae-fd7d754dfe62"
      },
      "source": [
        "name = 'Will'\n",
        "my_ball = \"Will's ball\"\n",
        "my_ball"
      ],
      "execution_count": 48,
      "outputs": [
        {
          "output_type": "execute_result",
          "data": {
            "text/plain": [
              "\"Will's ball\""
            ]
          },
          "metadata": {
            "tags": []
          },
          "execution_count": 48
        }
      ]
    },
    {
      "cell_type": "code",
      "metadata": {
        "id": "5x5AH9UEwPga",
        "colab_type": "code",
        "colab": {
          "base_uri": "https://localhost:8080/",
          "height": 34
        },
        "outputId": "086a23f4-c405-4a3a-d515-3951878eb2c5"
      },
      "source": [
        "multiline = \"\"\"Will's ball\n",
        "is red\n",
        "and bouncy!\"\"\"\n",
        "multiline"
      ],
      "execution_count": 49,
      "outputs": [
        {
          "output_type": "execute_result",
          "data": {
            "text/plain": [
              "\"Will's ball\\nis red\\nand bouncy!\""
            ]
          },
          "metadata": {
            "tags": []
          },
          "execution_count": 49
        }
      ]
    },
    {
      "cell_type": "code",
      "metadata": {
        "id": "QfuSy9hNwcqW",
        "colab_type": "code",
        "colab": {
          "base_uri": "https://localhost:8080/",
          "height": 34
        },
        "outputId": "eb429fb1-3f8a-45dd-d124-b0ac7ff64c46"
      },
      "source": [
        "print('Will\\'s ball is red')"
      ],
      "execution_count": 50,
      "outputs": [
        {
          "output_type": "stream",
          "text": [
            "Will's ball is red\n"
          ],
          "name": "stdout"
        }
      ]
    },
    {
      "cell_type": "code",
      "metadata": {
        "id": "rJ7F4Bw-wh3z",
        "colab_type": "code",
        "colab": {
          "base_uri": "https://localhost:8080/",
          "height": 34
        },
        "outputId": "87e047f9-ae3b-43ce-9b9c-1c1cfd64cef3"
      },
      "source": [
        "print(\"Will's ball is red\")"
      ],
      "execution_count": 51,
      "outputs": [
        {
          "output_type": "stream",
          "text": [
            "Will's ball is red\n"
          ],
          "name": "stdout"
        }
      ]
    },
    {
      "cell_type": "code",
      "metadata": {
        "id": "cRDKb9gZwmwL",
        "colab_type": "code",
        "colab": {
          "base_uri": "https://localhost:8080/",
          "height": 34
        },
        "outputId": "e7f02157-542b-4c49-b0a9-cbd7fb3c43c9"
      },
      "source": [
        "print(\"\"\"Will's ball is red\"\"\")"
      ],
      "execution_count": 52,
      "outputs": [
        {
          "output_type": "stream",
          "text": [
            "Will's ball is red\n"
          ],
          "name": "stdout"
        }
      ]
    },
    {
      "cell_type": "code",
      "metadata": {
        "id": "-vrsOuMywrM4",
        "colab_type": "code",
        "colab": {
          "base_uri": "https://localhost:8080/",
          "height": 34
        },
        "outputId": "5cba026b-9267-49fb-ce31-fe355cd8cbf5"
      },
      "source": [
        "print(\"Will's\\tball\\tis red\")"
      ],
      "execution_count": 53,
      "outputs": [
        {
          "output_type": "stream",
          "text": [
            "Will's\tball\tis red\n"
          ],
          "name": "stdout"
        }
      ]
    },
    {
      "cell_type": "code",
      "metadata": {
        "id": "FMwBQ1AOwvUN",
        "colab_type": "code",
        "colab": {
          "base_uri": "https://localhost:8080/",
          "height": 34
        },
        "outputId": "c87233ee-2c9c-4500-c3ac-ba651e63b848"
      },
      "source": [
        "item = 'ball'\n",
        "color = 'red'\n",
        "print(\"Will's %s is %s.\" % (item, color))"
      ],
      "execution_count": 55,
      "outputs": [
        {
          "output_type": "stream",
          "text": [
            "Will's ball is red.\n"
          ],
          "name": "stdout"
        }
      ]
    },
    {
      "cell_type": "code",
      "metadata": {
        "id": "cZTgERutw0c_",
        "colab_type": "code",
        "colab": {
          "base_uri": "https://localhost:8080/",
          "height": 34
        },
        "outputId": "29f989bd-ec62-439a-f98b-30ae3d6df604"
      },
      "source": [
        "print(\"Will's {0} is {1}.\".format(item, color))"
      ],
      "execution_count": 58,
      "outputs": [
        {
          "output_type": "stream",
          "text": [
            "Will's ball is red.\n"
          ],
          "name": "stdout"
        }
      ]
    },
    {
      "cell_type": "code",
      "metadata": {
        "id": "mMkNt50fxVsi",
        "colab_type": "code",
        "colab": {
          "base_uri": "https://localhost:8080/",
          "height": 34
        },
        "outputId": "d1e6e3e6-d805-4ab2-8f0c-b088584b72bf"
      },
      "source": [
        "print(\"Will's {1} is {1}.\".format(item, color))"
      ],
      "execution_count": 59,
      "outputs": [
        {
          "output_type": "stream",
          "text": [
            "Will's red is red.\n"
          ],
          "name": "stdout"
        }
      ]
    },
    {
      "cell_type": "markdown",
      "metadata": {
        "id": "YoiR2D4GxcSH",
        "colab_type": "text"
      },
      "source": [
        "# Manipulate and Search Strings"
      ]
    },
    {
      "cell_type": "code",
      "metadata": {
        "id": "hGdPYbZ6xYBI",
        "colab_type": "code",
        "colab": {
          "base_uri": "https://localhost:8080/",
          "height": 34
        },
        "outputId": "030ae4f7-a13e-44f0-e7c9-93687144cd80"
      },
      "source": [
        "\"The ball is red\".endswith(\"red\")"
      ],
      "execution_count": 60,
      "outputs": [
        {
          "output_type": "execute_result",
          "data": {
            "text/plain": [
              "True"
            ]
          },
          "metadata": {
            "tags": []
          },
          "execution_count": 60
        }
      ]
    },
    {
      "cell_type": "code",
      "metadata": {
        "id": "B3vZrzMox8Nu",
        "colab_type": "code",
        "colab": {
          "base_uri": "https://localhost:8080/",
          "height": 34
        },
        "outputId": "b41c7386-a2ef-4cf4-eefa-741e53396e6d"
      },
      "source": [
        "my_string = \"The ball is red\"\n",
        "substring = \"red\"\n",
        "my_string.endswith(substring)"
      ],
      "execution_count": 62,
      "outputs": [
        {
          "output_type": "execute_result",
          "data": {
            "text/plain": [
              "True"
            ]
          },
          "metadata": {
            "tags": []
          },
          "execution_count": 62
        }
      ]
    },
    {
      "cell_type": "code",
      "metadata": {
        "id": "3HJ-yHWeyDkQ",
        "colab_type": "code",
        "colab": {
          "base_uri": "https://localhost:8080/",
          "height": 34
        },
        "outputId": "3a508b84-822b-453c-c463-217f18a18328"
      },
      "source": [
        "\"The ball is red\".find(\"is\")"
      ],
      "execution_count": 63,
      "outputs": [
        {
          "output_type": "execute_result",
          "data": {
            "text/plain": [
              "9"
            ]
          },
          "metadata": {
            "tags": []
          },
          "execution_count": 63
        }
      ]
    },
    {
      "cell_type": "code",
      "metadata": {
        "id": "ylCYY7Bfyb1w",
        "colab_type": "code",
        "colab": {
          "base_uri": "https://localhost:8080/",
          "height": 34
        },
        "outputId": "74aa71d0-728d-4efb-f064-bcbd93016c23"
      },
      "source": [
        "\"The ball is red\".find(\"foo\")"
      ],
      "execution_count": 64,
      "outputs": [
        {
          "output_type": "execute_result",
          "data": {
            "text/plain": [
              "-1"
            ]
          },
          "metadata": {
            "tags": []
          },
          "execution_count": 64
        }
      ]
    },
    {
      "cell_type": "code",
      "metadata": {
        "id": "Fliu_x_Byeqj",
        "colab_type": "code",
        "colab": {
          "base_uri": "https://localhost:8080/",
          "height": 34
        },
        "outputId": "39770c2c-72fc-4ed7-92cc-45c10be4041d"
      },
      "source": [
        "\"The {0} is {1}\".format(\"ball\", \"red\")"
      ],
      "execution_count": 65,
      "outputs": [
        {
          "output_type": "execute_result",
          "data": {
            "text/plain": [
              "'The ball is red'"
            ]
          },
          "metadata": {
            "tags": []
          },
          "execution_count": 65
        }
      ]
    },
    {
      "cell_type": "code",
      "metadata": {
        "id": "isqdfhySyjSa",
        "colab_type": "code",
        "colab": {
          "base_uri": "https://localhost:8080/",
          "height": 34
        },
        "outputId": "43957519-42c4-4980-96bd-998a086b5714"
      },
      "source": [
        "\"\".join ([\"The \", \"ball \", \"is \", \"red\"])"
      ],
      "execution_count": 68,
      "outputs": [
        {
          "output_type": "execute_result",
          "data": {
            "text/plain": [
              "'The ball is red'"
            ]
          },
          "metadata": {
            "tags": []
          },
          "execution_count": 68
        }
      ]
    },
    {
      "cell_type": "code",
      "metadata": {
        "id": "AGJd5x0SyojG",
        "colab_type": "code",
        "colab": {
          "base_uri": "https://localhost:8080/",
          "height": 34
        },
        "outputId": "4c71d41e-d691-4946-8552-d29fd0141038"
      },
      "source": [
        "\"  Will  \".strip()"
      ],
      "execution_count": 69,
      "outputs": [
        {
          "output_type": "execute_result",
          "data": {
            "text/plain": [
              "'Will'"
            ]
          },
          "metadata": {
            "tags": []
          },
          "execution_count": 69
        }
      ]
    },
    {
      "cell_type": "code",
      "metadata": {
        "id": "W_osmTsSyz6Y",
        "colab_type": "code",
        "colab": {
          "base_uri": "https://localhost:8080/",
          "height": 34
        },
        "outputId": "ee8a97b3-951f-4396-996d-897b8b31eb83"
      },
      "source": [
        "\"  Will  \".lstrip()"
      ],
      "execution_count": 71,
      "outputs": [
        {
          "output_type": "execute_result",
          "data": {
            "text/plain": [
              "'Will  '"
            ]
          },
          "metadata": {
            "tags": []
          },
          "execution_count": 71
        }
      ]
    },
    {
      "cell_type": "code",
      "metadata": {
        "id": "UCYSIujyy1js",
        "colab_type": "code",
        "colab": {
          "base_uri": "https://localhost:8080/",
          "height": 34
        },
        "outputId": "70f13697-75e9-432d-eb1f-653c7e0de6ec"
      },
      "source": [
        "\"  Will  \".rstrip()"
      ],
      "execution_count": 73,
      "outputs": [
        {
          "output_type": "execute_result",
          "data": {
            "text/plain": [
              "'  Will'"
            ]
          },
          "metadata": {
            "tags": []
          },
          "execution_count": 73
        }
      ]
    },
    {
      "cell_type": "markdown",
      "metadata": {
        "id": "P_wX035qzQO6",
        "colab_type": "text"
      },
      "source": [
        "Python | `dir()` function. `dir()` is a powerful inbuilt function in Python3, which returns list of the attributes and methods of any object (say functions , modules, strings, lists, dictionaries etc.)"
      ]
    },
    {
      "cell_type": "code",
      "metadata": {
        "id": "Xss3CYFjy2vp",
        "colab_type": "code",
        "colab": {}
      },
      "source": [
        "dir(\"Will\")"
      ],
      "execution_count": 0,
      "outputs": []
    },
    {
      "cell_type": "markdown",
      "metadata": {
        "id": "fu6Mp-JizmGo",
        "colab_type": "text"
      },
      "source": [
        "The `help()` method is used for interactive use. It's recommenced to try it in your interpreter when you need help to write Python program and use Python modules."
      ]
    },
    {
      "cell_type": "code",
      "metadata": {
        "id": "P8OCUi2VzAP1",
        "colab_type": "code",
        "colab": {
          "base_uri": "https://localhost:8080/",
          "height": 153
        },
        "outputId": "60458ee9-fd97-461f-d651-47c8bc00713b"
      },
      "source": [
        "help(\"\".rstrip)"
      ],
      "execution_count": 75,
      "outputs": [
        {
          "output_type": "stream",
          "text": [
            "Help on built-in function rstrip:\n",
            "\n",
            "rstrip(...) method of builtins.str instance\n",
            "    S.rstrip([chars]) -> str\n",
            "    \n",
            "    Return a copy of the string S with trailing whitespace removed.\n",
            "    If chars is given and not None, remove characters in chars instead.\n",
            "\n"
          ],
          "name": "stdout"
        }
      ]
    },
    {
      "cell_type": "markdown",
      "metadata": {
        "id": "QIEYJsN1ztoi",
        "colab_type": "text"
      },
      "source": [
        "# Add Flow Control"
      ]
    },
    {
      "cell_type": "code",
      "metadata": {
        "id": "CToNPzgt0F93",
        "colab_type": "code",
        "colab": {
          "base_uri": "https://localhost:8080/",
          "height": 51
        },
        "outputId": "8b2c0454-247e-403a-fb4d-d501533b9d50"
      },
      "source": [
        "x = int(input(\"enter and integer: \"))\n",
        "if x < 0:\n",
        "  x = 0\n",
        "  print('Negative number changed to zero.')\n",
        "elif x == 0:\n",
        "  print('Zero')\n",
        "elif x == 1:\n",
        "  print('One')\n",
        "else:\n",
        "  print('Some other number')"
      ],
      "execution_count": 78,
      "outputs": [
        {
          "output_type": "stream",
          "text": [
            "enter and integer: 1\n",
            "One\n"
          ],
          "name": "stdout"
        }
      ]
    },
    {
      "cell_type": "code",
      "metadata": {
        "id": "SRUSYrSWN5NK",
        "colab_type": "code",
        "colab": {
          "base_uri": "https://localhost:8080/",
          "height": 68
        },
        "outputId": "89c3e82f-98ec-43cf-a130-0e781a614ce1"
      },
      "source": [
        "pets = ['cat', 'dog', 'elephant']\n",
        "for pet in pets:\n",
        "  print('I have a pet: {0}'.format(pet))"
      ],
      "execution_count": 80,
      "outputs": [
        {
          "output_type": "stream",
          "text": [
            "I have a pet: cat\n",
            "I have a pet: dog\n",
            "I have a pet: elephant\n"
          ],
          "name": "stdout"
        }
      ]
    },
    {
      "cell_type": "code",
      "metadata": {
        "id": "U6MY0fIhPrWh",
        "colab_type": "code",
        "colab": {
          "base_uri": "https://localhost:8080/",
          "height": 102
        },
        "outputId": "8959d95b-d476-4400-efba-0e9686493741"
      },
      "source": [
        "for i in range(5):\n",
        "  print(i)"
      ],
      "execution_count": 81,
      "outputs": [
        {
          "output_type": "stream",
          "text": [
            "0\n",
            "1\n",
            "2\n",
            "3\n",
            "4\n"
          ],
          "name": "stdout"
        }
      ]
    },
    {
      "cell_type": "code",
      "metadata": {
        "id": "v5jZs5WFP1gx",
        "colab_type": "code",
        "colab": {
          "base_uri": "https://localhost:8080/",
          "height": 102
        },
        "outputId": "ead24791-1c7d-4f82-e4ec-58fe3691b381"
      },
      "source": [
        "for i in range(10, 15):\n",
        "  print(i)"
      ],
      "execution_count": 82,
      "outputs": [
        {
          "output_type": "stream",
          "text": [
            "10\n",
            "11\n",
            "12\n",
            "13\n",
            "14\n"
          ],
          "name": "stdout"
        }
      ]
    },
    {
      "cell_type": "code",
      "metadata": {
        "id": "qeMkZMCkP9Tg",
        "colab_type": "code",
        "colab": {
          "base_uri": "https://localhost:8080/",
          "height": 102
        },
        "outputId": "cd8600c2-e524-4f23-85fd-f0b342778c03"
      },
      "source": [
        "for i in range(0, 10, 2):\n",
        "  print(i)"
      ],
      "execution_count": 83,
      "outputs": [
        {
          "output_type": "stream",
          "text": [
            "0\n",
            "2\n",
            "4\n",
            "6\n",
            "8\n"
          ],
          "name": "stdout"
        }
      ]
    },
    {
      "cell_type": "code",
      "metadata": {
        "id": "cGqtIceuQB-0",
        "colab_type": "code",
        "colab": {
          "base_uri": "https://localhost:8080/",
          "height": 187
        },
        "outputId": "e7f69a28-559c-4194-d490-2856f1aa5b9b"
      },
      "source": [
        "for i in range(10, 0, -1):\n",
        "  print(i)"
      ],
      "execution_count": 84,
      "outputs": [
        {
          "output_type": "stream",
          "text": [
            "10\n",
            "9\n",
            "8\n",
            "7\n",
            "6\n",
            "5\n",
            "4\n",
            "3\n",
            "2\n",
            "1\n"
          ],
          "name": "stdout"
        }
      ]
    },
    {
      "cell_type": "code",
      "metadata": {
        "id": "zLJj2Q6TQHf2",
        "colab_type": "code",
        "colab": {
          "base_uri": "https://localhost:8080/",
          "height": 170
        },
        "outputId": "a1d50ef3-255c-45cb-cbeb-fe921a0d7eec"
      },
      "source": [
        "x = 1\n",
        "while x < 10:\n",
        "  print(x)\n",
        "  x = x + 1"
      ],
      "execution_count": 85,
      "outputs": [
        {
          "output_type": "stream",
          "text": [
            "1\n",
            "2\n",
            "3\n",
            "4\n",
            "5\n",
            "6\n",
            "7\n",
            "8\n",
            "9\n"
          ],
          "name": "stdout"
        }
      ]
    },
    {
      "cell_type": "code",
      "metadata": {
        "id": "m1qGZwNHQQc5",
        "colab_type": "code",
        "colab": {
          "base_uri": "https://localhost:8080/",
          "height": 51
        },
        "outputId": "538148c3-c1f3-4fd8-f9fe-4f279d8d4ea8"
      },
      "source": [
        "for pet in pets:\n",
        "  if pet == 'dog':\n",
        "    print('No dogs allowed')\n",
        "    break\n",
        "  else:\n",
        "    print('We love {0}!'.format(pet))"
      ],
      "execution_count": 86,
      "outputs": [
        {
          "output_type": "stream",
          "text": [
            "We love cat!\n",
            "No dogs allowed\n"
          ],
          "name": "stdout"
        }
      ]
    },
    {
      "cell_type": "markdown",
      "metadata": {
        "id": "sDf3duyMREYz",
        "colab_type": "text"
      },
      "source": [
        "# Use Comparison Operators"
      ]
    },
    {
      "cell_type": "code",
      "metadata": {
        "id": "bbi2VQ0PRIhN",
        "colab_type": "code",
        "colab": {
          "base_uri": "https://localhost:8080/",
          "height": 34
        },
        "outputId": "50f7ef5a-1ee8-4ba4-e0af-693945c19111"
      },
      "source": [
        "5 == 5"
      ],
      "execution_count": 87,
      "outputs": [
        {
          "output_type": "execute_result",
          "data": {
            "text/plain": [
              "True"
            ]
          },
          "metadata": {
            "tags": []
          },
          "execution_count": 87
        }
      ]
    },
    {
      "cell_type": "code",
      "metadata": {
        "id": "U7uz8DYZRLpo",
        "colab_type": "code",
        "colab": {
          "base_uri": "https://localhost:8080/",
          "height": 34
        },
        "outputId": "9002ed1f-c2e9-4850-f660-75edfa3192e7"
      },
      "source": [
        "5 == 4"
      ],
      "execution_count": 88,
      "outputs": [
        {
          "output_type": "execute_result",
          "data": {
            "text/plain": [
              "False"
            ]
          },
          "metadata": {
            "tags": []
          },
          "execution_count": 88
        }
      ]
    },
    {
      "cell_type": "code",
      "metadata": {
        "id": "1-o8cjtsRMr9",
        "colab_type": "code",
        "colab": {
          "base_uri": "https://localhost:8080/",
          "height": 34
        },
        "outputId": "11709511-fe0f-4464-a9c4-8425ac2a73bf"
      },
      "source": [
        "5 != 4"
      ],
      "execution_count": 89,
      "outputs": [
        {
          "output_type": "execute_result",
          "data": {
            "text/plain": [
              "True"
            ]
          },
          "metadata": {
            "tags": []
          },
          "execution_count": 89
        }
      ]
    },
    {
      "cell_type": "code",
      "metadata": {
        "id": "8O5aGtzkROF5",
        "colab_type": "code",
        "colab": {
          "base_uri": "https://localhost:8080/",
          "height": 34
        },
        "outputId": "9e084cab-7dc8-4b1b-a025-23d9c1e7db02"
      },
      "source": [
        "5 > 3"
      ],
      "execution_count": 90,
      "outputs": [
        {
          "output_type": "execute_result",
          "data": {
            "text/plain": [
              "True"
            ]
          },
          "metadata": {
            "tags": []
          },
          "execution_count": 90
        }
      ]
    },
    {
      "cell_type": "code",
      "metadata": {
        "id": "pQlBDedYRPbc",
        "colab_type": "code",
        "colab": {
          "base_uri": "https://localhost:8080/",
          "height": 34
        },
        "outputId": "47eb3e79-b248-477f-abe1-62daf28ff1f6"
      },
      "source": [
        "3 < 5"
      ],
      "execution_count": 91,
      "outputs": [
        {
          "output_type": "execute_result",
          "data": {
            "text/plain": [
              "True"
            ]
          },
          "metadata": {
            "tags": []
          },
          "execution_count": 91
        }
      ]
    },
    {
      "cell_type": "code",
      "metadata": {
        "id": "unGyGBcwRQlB",
        "colab_type": "code",
        "colab": {
          "base_uri": "https://localhost:8080/",
          "height": 34
        },
        "outputId": "f522a6b3-ce81-4b3e-c628-c29d05b89c87"
      },
      "source": [
        "5 >= 3"
      ],
      "execution_count": 93,
      "outputs": [
        {
          "output_type": "execute_result",
          "data": {
            "text/plain": [
              "True"
            ]
          },
          "metadata": {
            "tags": []
          },
          "execution_count": 93
        }
      ]
    },
    {
      "cell_type": "code",
      "metadata": {
        "id": "AWrUkSatRTKK",
        "colab_type": "code",
        "colab": {
          "base_uri": "https://localhost:8080/",
          "height": 34
        },
        "outputId": "140f2020-cb2f-46f1-8f52-dfac6ec3bdc2"
      },
      "source": [
        "5 >= 5"
      ],
      "execution_count": 94,
      "outputs": [
        {
          "output_type": "execute_result",
          "data": {
            "text/plain": [
              "True"
            ]
          },
          "metadata": {
            "tags": []
          },
          "execution_count": 94
        }
      ]
    },
    {
      "cell_type": "code",
      "metadata": {
        "id": "7qjx8wvWRX6s",
        "colab_type": "code",
        "colab": {
          "base_uri": "https://localhost:8080/",
          "height": 34
        },
        "outputId": "41811700-3d62-401c-e5d9-25dc9bd99c9a"
      },
      "source": [
        "[1, 2, 4] > [1, 2, 3]"
      ],
      "execution_count": 95,
      "outputs": [
        {
          "output_type": "execute_result",
          "data": {
            "text/plain": [
              "True"
            ]
          },
          "metadata": {
            "tags": []
          },
          "execution_count": 95
        }
      ]
    },
    {
      "cell_type": "code",
      "metadata": {
        "id": "P6gOCvOVRb79",
        "colab_type": "code",
        "colab": {
          "base_uri": "https://localhost:8080/",
          "height": 34
        },
        "outputId": "c5654b7b-89f2-4039-b688-f28ac8e44826"
      },
      "source": [
        "1 < 2 and 5 > 4"
      ],
      "execution_count": 96,
      "outputs": [
        {
          "output_type": "execute_result",
          "data": {
            "text/plain": [
              "True"
            ]
          },
          "metadata": {
            "tags": []
          },
          "execution_count": 96
        }
      ]
    },
    {
      "cell_type": "code",
      "metadata": {
        "id": "3qiJHVgxRgTu",
        "colab_type": "code",
        "colab": {
          "base_uri": "https://localhost:8080/",
          "height": 34
        },
        "outputId": "8dc581e3-bb34-42fe-c1ff-b97f5b52ea4e"
      },
      "source": [
        "(1 < 2) and (5 > 4)"
      ],
      "execution_count": 97,
      "outputs": [
        {
          "output_type": "execute_result",
          "data": {
            "text/plain": [
              "True"
            ]
          },
          "metadata": {
            "tags": []
          },
          "execution_count": 97
        }
      ]
    },
    {
      "cell_type": "code",
      "metadata": {
        "id": "sYNMIFMpRkoZ",
        "colab_type": "code",
        "colab": {
          "base_uri": "https://localhost:8080/",
          "height": 34
        },
        "outputId": "ee815bf2-1b39-4d66-c28f-66faf948c274"
      },
      "source": [
        "1 > 2 or 5 > 4"
      ],
      "execution_count": 98,
      "outputs": [
        {
          "output_type": "execute_result",
          "data": {
            "text/plain": [
              "True"
            ]
          },
          "metadata": {
            "tags": []
          },
          "execution_count": 98
        }
      ]
    },
    {
      "cell_type": "code",
      "metadata": {
        "id": "l40JGtLXRoAZ",
        "colab_type": "code",
        "colab": {
          "base_uri": "https://localhost:8080/",
          "height": 34
        },
        "outputId": "d5505bb2-c6cc-40b3-e702-ba2bad507cc3"
      },
      "source": [
        "x = 4\n",
        "x > 3 and x < 5"
      ],
      "execution_count": 99,
      "outputs": [
        {
          "output_type": "execute_result",
          "data": {
            "text/plain": [
              "True"
            ]
          },
          "metadata": {
            "tags": []
          },
          "execution_count": 99
        }
      ]
    },
    {
      "cell_type": "code",
      "metadata": {
        "id": "IEgiiUcqRrk7",
        "colab_type": "code",
        "colab": {
          "base_uri": "https://localhost:8080/",
          "height": 34
        },
        "outputId": "0ef093ee-6097-496e-ebe0-e097f48540e4"
      },
      "source": [
        "3 < x < 5"
      ],
      "execution_count": 100,
      "outputs": [
        {
          "output_type": "execute_result",
          "data": {
            "text/plain": [
              "True"
            ]
          },
          "metadata": {
            "tags": []
          },
          "execution_count": 100
        }
      ]
    },
    {
      "cell_type": "code",
      "metadata": {
        "id": "gGbeHKpmRvbK",
        "colab_type": "code",
        "colab": {
          "base_uri": "https://localhost:8080/",
          "height": 34
        },
        "outputId": "b0fcce00-5dde-400e-e7cd-1d275b1df3ae"
      },
      "source": [
        "isinstance(\"Will\", str)"
      ],
      "execution_count": 101,
      "outputs": [
        {
          "output_type": "execute_result",
          "data": {
            "text/plain": [
              "True"
            ]
          },
          "metadata": {
            "tags": []
          },
          "execution_count": 101
        }
      ]
    },
    {
      "cell_type": "code",
      "metadata": {
        "id": "GTGl6OrwR1tC",
        "colab_type": "code",
        "colab": {
          "base_uri": "https://localhost:8080/",
          "height": 34
        },
        "outputId": "316d0df6-6e12-463c-8c61-11f5c5160474"
      },
      "source": [
        "isinstance(\"Will\", int)"
      ],
      "execution_count": 102,
      "outputs": [
        {
          "output_type": "execute_result",
          "data": {
            "text/plain": [
              "False"
            ]
          },
          "metadata": {
            "tags": []
          },
          "execution_count": 102
        }
      ]
    },
    {
      "cell_type": "code",
      "metadata": {
        "id": "a_M8YDCUR2vx",
        "colab_type": "code",
        "colab": {
          "base_uri": "https://localhost:8080/",
          "height": 34
        },
        "outputId": "a147c504-67ca-49b0-c912-3f2abc4932a7"
      },
      "source": [
        "isinstance(4.0, float)"
      ],
      "execution_count": 103,
      "outputs": [
        {
          "output_type": "execute_result",
          "data": {
            "text/plain": [
              "True"
            ]
          },
          "metadata": {
            "tags": []
          },
          "execution_count": 103
        }
      ]
    },
    {
      "cell_type": "code",
      "metadata": {
        "id": "tNK7K25MR5Ty",
        "colab_type": "code",
        "colab": {
          "base_uri": "https://localhost:8080/",
          "height": 34
        },
        "outputId": "b0df5c77-1132-4e0d-cc4f-bf92c8bda4f8"
      },
      "source": [
        "isinstance(4., float)"
      ],
      "execution_count": 104,
      "outputs": [
        {
          "output_type": "execute_result",
          "data": {
            "text/plain": [
              "True"
            ]
          },
          "metadata": {
            "tags": []
          },
          "execution_count": 104
        }
      ]
    },
    {
      "cell_type": "code",
      "metadata": {
        "id": "f9vAwZo8R77p",
        "colab_type": "code",
        "colab": {
          "base_uri": "https://localhost:8080/",
          "height": 34
        },
        "outputId": "fcf58656-0edb-4a58-d618-12850c2f0c6a"
      },
      "source": [
        "a = True\n",
        "b = True\n",
        "a is b"
      ],
      "execution_count": 106,
      "outputs": [
        {
          "output_type": "execute_result",
          "data": {
            "text/plain": [
              "True"
            ]
          },
          "metadata": {
            "tags": []
          },
          "execution_count": 106
        }
      ]
    },
    {
      "cell_type": "code",
      "metadata": {
        "id": "gsyQOGqDR-TL",
        "colab_type": "code",
        "colab": {
          "base_uri": "https://localhost:8080/",
          "height": 34
        },
        "outputId": "d96367c8-4420-4270-e4c9-6580d03f4c1b"
      },
      "source": [
        "x = [1, 2, 3]\n",
        "y = [1, 2, 3]\n",
        "x is y"
      ],
      "execution_count": 107,
      "outputs": [
        {
          "output_type": "execute_result",
          "data": {
            "text/plain": [
              "False"
            ]
          },
          "metadata": {
            "tags": []
          },
          "execution_count": 107
        }
      ]
    },
    {
      "cell_type": "code",
      "metadata": {
        "id": "euMxMY49SKUR",
        "colab_type": "code",
        "colab": {
          "base_uri": "https://localhost:8080/",
          "height": 34
        },
        "outputId": "7cae34d6-e579-4ac9-bb43-d0f68752b0c7"
      },
      "source": [
        "id(a)"
      ],
      "execution_count": 108,
      "outputs": [
        {
          "output_type": "execute_result",
          "data": {
            "text/plain": [
              "10302848"
            ]
          },
          "metadata": {
            "tags": []
          },
          "execution_count": 108
        }
      ]
    },
    {
      "cell_type": "code",
      "metadata": {
        "id": "d2NImkWGSMs8",
        "colab_type": "code",
        "colab": {
          "base_uri": "https://localhost:8080/",
          "height": 34
        },
        "outputId": "3c4e27cc-280f-47a0-d1ed-8dcbab38e8ab"
      },
      "source": [
        "id(b)"
      ],
      "execution_count": 109,
      "outputs": [
        {
          "output_type": "execute_result",
          "data": {
            "text/plain": [
              "10302848"
            ]
          },
          "metadata": {
            "tags": []
          },
          "execution_count": 109
        }
      ]
    },
    {
      "cell_type": "code",
      "metadata": {
        "id": "-qRXeIZESObq",
        "colab_type": "code",
        "colab": {
          "base_uri": "https://localhost:8080/",
          "height": 34
        },
        "outputId": "91d27a55-a3a8-415c-aa2a-e7bfb59bda1d"
      },
      "source": [
        "id(x)"
      ],
      "execution_count": 110,
      "outputs": [
        {
          "output_type": "execute_result",
          "data": {
            "text/plain": [
              "140707507166088"
            ]
          },
          "metadata": {
            "tags": []
          },
          "execution_count": 110
        }
      ]
    },
    {
      "cell_type": "code",
      "metadata": {
        "id": "6FLwvewVSRAc",
        "colab_type": "code",
        "colab": {
          "base_uri": "https://localhost:8080/",
          "height": 34
        },
        "outputId": "91f4bb42-a673-4557-9338-a017ccb7ef2a"
      },
      "source": [
        "id(y)"
      ],
      "execution_count": 111,
      "outputs": [
        {
          "output_type": "execute_result",
          "data": {
            "text/plain": [
              "140707507257096"
            ]
          },
          "metadata": {
            "tags": []
          },
          "execution_count": 111
        }
      ]
    },
    {
      "cell_type": "code",
      "metadata": {
        "id": "_unTW772SR6q",
        "colab_type": "code",
        "colab": {
          "base_uri": "https://localhost:8080/",
          "height": 34
        },
        "outputId": "19b8f364-1209-4481-8816-7c33eafa6bfa"
      },
      "source": [
        "3 in x"
      ],
      "execution_count": 112,
      "outputs": [
        {
          "output_type": "execute_result",
          "data": {
            "text/plain": [
              "True"
            ]
          },
          "metadata": {
            "tags": []
          },
          "execution_count": 112
        }
      ]
    },
    {
      "cell_type": "code",
      "metadata": {
        "id": "UuI-cmSGSbTw",
        "colab_type": "code",
        "colab": {
          "base_uri": "https://localhost:8080/",
          "height": 34
        },
        "outputId": "5aec0687-bff1-4d1a-9c76-61aaf109b600"
      },
      "source": [
        "5 in x"
      ],
      "execution_count": 113,
      "outputs": [
        {
          "output_type": "execute_result",
          "data": {
            "text/plain": [
              "False"
            ]
          },
          "metadata": {
            "tags": []
          },
          "execution_count": 113
        }
      ]
    },
    {
      "cell_type": "code",
      "metadata": {
        "id": "DOzCRrxASc-0",
        "colab_type": "code",
        "colab": {
          "base_uri": "https://localhost:8080/",
          "height": 34
        },
        "outputId": "eb3e5e41-f785-4fbf-ddf2-dc1b766cb521"
      },
      "source": [
        "for value in x:\n",
        "  if value == 2:\n",
        "    print('Value is 2!')"
      ],
      "execution_count": 114,
      "outputs": [
        {
          "output_type": "stream",
          "text": [
            "Value is 2!\n"
          ],
          "name": "stdout"
        }
      ]
    },
    {
      "cell_type": "code",
      "metadata": {
        "id": "mRmOM6dTSrzr",
        "colab_type": "code",
        "colab": {
          "base_uri": "https://localhost:8080/",
          "height": 34
        },
        "outputId": "8bd83289-e791-4235-f3d0-456c70d540cd"
      },
      "source": [
        "car = {'model': 'Chevy', 'year': 1970, 'color': 'red'}\n",
        "if 'model' in car:\n",
        "  print('This is a {0}'.format(car['model']))"
      ],
      "execution_count": 116,
      "outputs": [
        {
          "output_type": "stream",
          "text": [
            "This is a Chevy\n"
          ],
          "name": "stdout"
        }
      ]
    },
    {
      "cell_type": "markdown",
      "metadata": {
        "id": "wB8VWsyGTVoT",
        "colab_type": "text"
      },
      "source": [
        "# Use Lists"
      ]
    },
    {
      "cell_type": "code",
      "metadata": {
        "id": "WGSLKmk_S85L",
        "colab_type": "code",
        "colab": {
          "base_uri": "https://localhost:8080/",
          "height": 34
        },
        "outputId": "83787a63-8322-4d52-e939-3d694ee78094"
      },
      "source": [
        "a = [1, 2, 3, 4]\n",
        "b = [1, 'cat', 7, {'car': 'chevy'}]\n",
        "b"
      ],
      "execution_count": 117,
      "outputs": [
        {
          "output_type": "execute_result",
          "data": {
            "text/plain": [
              "[1, 'cat', 7, {'car': 'chevy'}]"
            ]
          },
          "metadata": {
            "tags": []
          },
          "execution_count": 117
        }
      ]
    },
    {
      "cell_type": "code",
      "metadata": {
        "id": "sVFmCcfDTnV8",
        "colab_type": "code",
        "colab": {
          "base_uri": "https://localhost:8080/",
          "height": 34
        },
        "outputId": "4fcdcde3-d275-4f9e-dc9f-58ad473b7b31"
      },
      "source": [
        "b[0]"
      ],
      "execution_count": 118,
      "outputs": [
        {
          "output_type": "execute_result",
          "data": {
            "text/plain": [
              "1"
            ]
          },
          "metadata": {
            "tags": []
          },
          "execution_count": 118
        }
      ]
    },
    {
      "cell_type": "code",
      "metadata": {
        "id": "sR0tFSn6Tp2K",
        "colab_type": "code",
        "colab": {
          "base_uri": "https://localhost:8080/",
          "height": 34
        },
        "outputId": "79a2b7ed-0033-40f4-d010-883fe5512e94"
      },
      "source": [
        "b[1]"
      ],
      "execution_count": 119,
      "outputs": [
        {
          "output_type": "execute_result",
          "data": {
            "text/plain": [
              "'cat'"
            ]
          },
          "metadata": {
            "tags": []
          },
          "execution_count": 119
        }
      ]
    },
    {
      "cell_type": "code",
      "metadata": {
        "id": "u9wenauxTqoC",
        "colab_type": "code",
        "colab": {
          "base_uri": "https://localhost:8080/",
          "height": 34
        },
        "outputId": "c949837b-453e-4d1e-c3ef-2b33fdede20e"
      },
      "source": [
        "pets = []\n",
        "pets.append('cat')\n",
        "pets.append('dog')\n",
        "pets.append('bear')\n",
        "pets.append('shark')\n",
        "pets"
      ],
      "execution_count": 123,
      "outputs": [
        {
          "output_type": "execute_result",
          "data": {
            "text/plain": [
              "['cat', 'dog', 'bear', 'shark']"
            ]
          },
          "metadata": {
            "tags": []
          },
          "execution_count": 123
        }
      ]
    },
    {
      "cell_type": "code",
      "metadata": {
        "id": "U0uEUuSgT0_G",
        "colab_type": "code",
        "colab": {
          "base_uri": "https://localhost:8080/",
          "height": 34
        },
        "outputId": "e8fe122e-4567-4875-af5e-8c25c14ef60e"
      },
      "source": [
        "pets.remove('dog')\n",
        "pets"
      ],
      "execution_count": 124,
      "outputs": [
        {
          "output_type": "execute_result",
          "data": {
            "text/plain": [
              "['cat', 'bear', 'shark']"
            ]
          },
          "metadata": {
            "tags": []
          },
          "execution_count": 124
        }
      ]
    },
    {
      "cell_type": "code",
      "metadata": {
        "id": "IBZ1MFXaT3WA",
        "colab_type": "code",
        "colab": {
          "base_uri": "https://localhost:8080/",
          "height": 34
        },
        "outputId": "360b8c03-88e4-420a-c091-d9c444fbf4b9"
      },
      "source": [
        "pets.pop()"
      ],
      "execution_count": 125,
      "outputs": [
        {
          "output_type": "execute_result",
          "data": {
            "text/plain": [
              "'shark'"
            ]
          },
          "metadata": {
            "tags": []
          },
          "execution_count": 125
        }
      ]
    },
    {
      "cell_type": "code",
      "metadata": {
        "id": "85N5E9RJUB6M",
        "colab_type": "code",
        "colab": {
          "base_uri": "https://localhost:8080/",
          "height": 34
        },
        "outputId": "c25a78ce-ae56-423f-cf53-26b5cf54da79"
      },
      "source": [
        "pets.pop(0)"
      ],
      "execution_count": 126,
      "outputs": [
        {
          "output_type": "execute_result",
          "data": {
            "text/plain": [
              "'cat'"
            ]
          },
          "metadata": {
            "tags": []
          },
          "execution_count": 126
        }
      ]
    },
    {
      "cell_type": "code",
      "metadata": {
        "id": "DcvUG7kFUF-K",
        "colab_type": "code",
        "colab": {
          "base_uri": "https://localhost:8080/",
          "height": 34
        },
        "outputId": "aa94fc5a-f025-4f79-bdd8-83cbc17cc317"
      },
      "source": [
        "pets"
      ],
      "execution_count": 127,
      "outputs": [
        {
          "output_type": "execute_result",
          "data": {
            "text/plain": [
              "['bear']"
            ]
          },
          "metadata": {
            "tags": []
          },
          "execution_count": 127
        }
      ]
    },
    {
      "cell_type": "code",
      "metadata": {
        "id": "hCawaXn-UHQV",
        "colab_type": "code",
        "colab": {
          "base_uri": "https://localhost:8080/",
          "height": 34
        },
        "outputId": "3fd54260-65dd-4422-ff4c-d85b7d81b111"
      },
      "source": [
        "pets = ['cat', 'dog', 'bear', 'shark']\n",
        "pets"
      ],
      "execution_count": 129,
      "outputs": [
        {
          "output_type": "execute_result",
          "data": {
            "text/plain": [
              "['cat', 'dog', 'bear', 'shark']"
            ]
          },
          "metadata": {
            "tags": []
          },
          "execution_count": 129
        }
      ]
    },
    {
      "cell_type": "code",
      "metadata": {
        "id": "RiSBmEIKUJ-H",
        "colab_type": "code",
        "colab": {
          "base_uri": "https://localhost:8080/",
          "height": 34
        },
        "outputId": "0aeeefae-1d25-41b9-fc64-d9ddac12b2cc"
      },
      "source": [
        "pets.sort()\n",
        "pets"
      ],
      "execution_count": 131,
      "outputs": [
        {
          "output_type": "execute_result",
          "data": {
            "text/plain": [
              "['bear', 'cat', 'dog', 'shark']"
            ]
          },
          "metadata": {
            "tags": []
          },
          "execution_count": 131
        }
      ]
    },
    {
      "cell_type": "code",
      "metadata": {
        "id": "ZyE1N8tUUOHL",
        "colab_type": "code",
        "colab": {
          "base_uri": "https://localhost:8080/",
          "height": 34
        },
        "outputId": "6d00c797-7ce5-45bf-8c71-91c6f2a734fc"
      },
      "source": [
        "pets.reverse()\n",
        "pets"
      ],
      "execution_count": 132,
      "outputs": [
        {
          "output_type": "execute_result",
          "data": {
            "text/plain": [
              "['shark', 'dog', 'cat', 'bear']"
            ]
          },
          "metadata": {
            "tags": []
          },
          "execution_count": 132
        }
      ]
    },
    {
      "cell_type": "code",
      "metadata": {
        "id": "UKoWLY2iUTn0",
        "colab_type": "code",
        "colab": {
          "base_uri": "https://localhost:8080/",
          "height": 34
        },
        "outputId": "0c42b36b-a743-4e85-f6c7-bf8639fbe9d8"
      },
      "source": [
        "len(pets)"
      ],
      "execution_count": 133,
      "outputs": [
        {
          "output_type": "execute_result",
          "data": {
            "text/plain": [
              "4"
            ]
          },
          "metadata": {
            "tags": []
          },
          "execution_count": 133
        }
      ]
    },
    {
      "cell_type": "code",
      "metadata": {
        "id": "EOALZT6fUV61",
        "colab_type": "code",
        "colab": {
          "base_uri": "https://localhost:8080/",
          "height": 34
        },
        "outputId": "c11316eb-a689-44ab-90ce-a94e23db5137"
      },
      "source": [
        "pets.count('bear')"
      ],
      "execution_count": 134,
      "outputs": [
        {
          "output_type": "execute_result",
          "data": {
            "text/plain": [
              "1"
            ]
          },
          "metadata": {
            "tags": []
          },
          "execution_count": 134
        }
      ]
    },
    {
      "cell_type": "markdown",
      "metadata": {
        "id": "JgzpX5IUUhdb",
        "colab_type": "text"
      },
      "source": [
        "# Slice Lists"
      ]
    },
    {
      "cell_type": "code",
      "metadata": {
        "id": "uRfAvQkjUbnE",
        "colab_type": "code",
        "colab": {
          "base_uri": "https://localhost:8080/",
          "height": 34
        },
        "outputId": "bbf77c2a-3adb-4cfb-8d84-61b501f282ab"
      },
      "source": [
        "a = [1, 2, 3, 4, 5, 6, 7, 8, 9]\n",
        "a[2:5]"
      ],
      "execution_count": 136,
      "outputs": [
        {
          "output_type": "execute_result",
          "data": {
            "text/plain": [
              "[3, 4, 5]"
            ]
          },
          "metadata": {
            "tags": []
          },
          "execution_count": 136
        }
      ]
    },
    {
      "cell_type": "code",
      "metadata": {
        "id": "-GGxIwDnUzxb",
        "colab_type": "code",
        "colab": {
          "base_uri": "https://localhost:8080/",
          "height": 34
        },
        "outputId": "e7fc42e7-0083-4ae7-b473-826fb88eff2c"
      },
      "source": [
        "a[2:]"
      ],
      "execution_count": 137,
      "outputs": [
        {
          "output_type": "execute_result",
          "data": {
            "text/plain": [
              "[3, 4, 5, 6, 7, 8, 9]"
            ]
          },
          "metadata": {
            "tags": []
          },
          "execution_count": 137
        }
      ]
    },
    {
      "cell_type": "code",
      "metadata": {
        "id": "p_PUopSdU9rz",
        "colab_type": "code",
        "colab": {
          "base_uri": "https://localhost:8080/",
          "height": 34
        },
        "outputId": "86d36ca5-2330-442f-e418-ff9060bdd231"
      },
      "source": [
        "a[:5]"
      ],
      "execution_count": 138,
      "outputs": [
        {
          "output_type": "execute_result",
          "data": {
            "text/plain": [
              "[1, 2, 3, 4, 5]"
            ]
          },
          "metadata": {
            "tags": []
          },
          "execution_count": 138
        }
      ]
    },
    {
      "cell_type": "code",
      "metadata": {
        "id": "WT59q5C_VAiR",
        "colab_type": "code",
        "colab": {
          "base_uri": "https://localhost:8080/",
          "height": 34
        },
        "outputId": "3bf7e22b-40ba-485f-8233-90461e43ae00"
      },
      "source": [
        "a[-4:]"
      ],
      "execution_count": 139,
      "outputs": [
        {
          "output_type": "execute_result",
          "data": {
            "text/plain": [
              "[6, 7, 8, 9]"
            ]
          },
          "metadata": {
            "tags": []
          },
          "execution_count": 139
        }
      ]
    },
    {
      "cell_type": "code",
      "metadata": {
        "id": "hW6FZxh0VEOv",
        "colab_type": "code",
        "colab": {
          "base_uri": "https://localhost:8080/",
          "height": 34
        },
        "outputId": "31a6540a-e38a-4700-9337-156690fb79b7"
      },
      "source": [
        "a[2:5] = ['foo', 'bar', 'baz']\n",
        "a"
      ],
      "execution_count": 140,
      "outputs": [
        {
          "output_type": "execute_result",
          "data": {
            "text/plain": [
              "[1, 2, 'foo', 'bar', 'baz', 6, 7, 8, 9]"
            ]
          },
          "metadata": {
            "tags": []
          },
          "execution_count": 140
        }
      ]
    },
    {
      "cell_type": "markdown",
      "metadata": {
        "id": "-9oN3BWxVOZg",
        "colab_type": "text"
      },
      "source": [
        "# Understand List Comprehensions"
      ]
    },
    {
      "cell_type": "code",
      "metadata": {
        "id": "92iSoUc5VMe_",
        "colab_type": "code",
        "colab": {
          "base_uri": "https://localhost:8080/",
          "height": 34
        },
        "outputId": "a32dc574-981e-44b9-d2cf-94fa1324b7c8"
      },
      "source": [
        "zoo_animals = ['giraffe', 'monkey', 'elephant', 'lion', 'bear', 'pig', 'horse', 'aardvark']\n",
        "my_animals = ['monkey', 'bear', 'pig']\n",
        "\n",
        "not_my_animals = []\n",
        "for animal in zoo_animals:\n",
        "  if animal not in my_animals:\n",
        "    not_my_animals.append(animal)\n",
        "\n",
        "not_my_animals"
      ],
      "execution_count": 142,
      "outputs": [
        {
          "output_type": "execute_result",
          "data": {
            "text/plain": [
              "['giraffe', 'elephant', 'lion', 'horse', 'aardvark']"
            ]
          },
          "metadata": {
            "tags": []
          },
          "execution_count": 142
        }
      ]
    },
    {
      "cell_type": "code",
      "metadata": {
        "id": "Xy0b3e6wVia6",
        "colab_type": "code",
        "colab": {
          "base_uri": "https://localhost:8080/",
          "height": 34
        },
        "outputId": "09358b83-350f-4c8e-86ae-813d8005c866"
      },
      "source": [
        "other_animals = [animal for animal in zoo_animals if animal not in my_animals]\n",
        "other_animals"
      ],
      "execution_count": 143,
      "outputs": [
        {
          "output_type": "execute_result",
          "data": {
            "text/plain": [
              "['giraffe', 'elephant', 'lion', 'horse', 'aardvark']"
            ]
          },
          "metadata": {
            "tags": []
          },
          "execution_count": 143
        }
      ]
    },
    {
      "cell_type": "code",
      "metadata": {
        "id": "FVuXJR4DXaAm",
        "colab_type": "code",
        "colab": {
          "base_uri": "https://localhost:8080/",
          "height": 34
        },
        "outputId": "f71c55a1-3d5c-4415-e8f6-d47246e4c475"
      },
      "source": [
        "other_animals2 = [\n",
        "  animal\n",
        "  for animal in zoo_animals\n",
        "  if animal not in my_animals\n",
        "]\n",
        "other_animals2"
      ],
      "execution_count": 149,
      "outputs": [
        {
          "output_type": "execute_result",
          "data": {
            "text/plain": [
              "['giraffe', 'elephant', 'lion', 'horse', 'aardvark']"
            ]
          },
          "metadata": {
            "tags": []
          },
          "execution_count": 149
        }
      ]
    },
    {
      "cell_type": "code",
      "metadata": {
        "id": "aFYogCeDWPQo",
        "colab_type": "code",
        "colab": {
          "base_uri": "https://localhost:8080/",
          "height": 34
        },
        "outputId": "0a3bd8e1-3875-4220-c035-1507fcf10b04"
      },
      "source": [
        "sales = [3.14, 7.99, 10.99, 0.99, 1.24]\n",
        "\n",
        "sales_with_tax = []\n",
        "for sale in sales:\n",
        "  sales_with_tax.append(sale * 1.07)\n",
        "\n",
        "sales_with_tax"
      ],
      "execution_count": 144,
      "outputs": [
        {
          "output_type": "execute_result",
          "data": {
            "text/plain": [
              "[3.3598000000000003, 8.5493, 11.759300000000001, 1.0593000000000001, 1.3268]"
            ]
          },
          "metadata": {
            "tags": []
          },
          "execution_count": 144
        }
      ]
    },
    {
      "cell_type": "code",
      "metadata": {
        "id": "n9yMpzgjWuu4",
        "colab_type": "code",
        "colab": {
          "base_uri": "https://localhost:8080/",
          "height": 34
        },
        "outputId": "f22955eb-12ec-4d38-b70c-94832b063095"
      },
      "source": [
        "sales2 = [sale * 1.07 for sale in sales]\n",
        "sales2"
      ],
      "execution_count": 146,
      "outputs": [
        {
          "output_type": "execute_result",
          "data": {
            "text/plain": [
              "[3.3598000000000003, 8.5493, 11.759300000000001, 1.0593000000000001, 1.3268]"
            ]
          },
          "metadata": {
            "tags": []
          },
          "execution_count": 146
        }
      ]
    },
    {
      "cell_type": "markdown",
      "metadata": {
        "id": "THzZBYr8Xxiz",
        "colab_type": "text"
      },
      "source": [
        "# Manipulate Data with Dictionaries"
      ]
    },
    {
      "cell_type": "code",
      "metadata": {
        "id": "XKUwnPdYW_CF",
        "colab_type": "code",
        "colab": {
          "base_uri": "https://localhost:8080/",
          "height": 34
        },
        "outputId": "4ac0f1f4-1f50-4763-8ff6-85e9ec1d8a3f"
      },
      "source": [
        "age = {}\n",
        "age['will'] = 40\n",
        "age['bob'] = 30\n",
        "age['john'] = 20\n",
        "age"
      ],
      "execution_count": 150,
      "outputs": [
        {
          "output_type": "execute_result",
          "data": {
            "text/plain": [
              "{'bob': 30, 'john': 20, 'will': 40}"
            ]
          },
          "metadata": {
            "tags": []
          },
          "execution_count": 150
        }
      ]
    },
    {
      "cell_type": "code",
      "metadata": {
        "id": "va4fIwLCYCSw",
        "colab_type": "code",
        "colab": {
          "base_uri": "https://localhost:8080/",
          "height": 34
        },
        "outputId": "d97ce4b0-c69f-448b-df90-8ac3191fc9b3"
      },
      "source": [
        "print(age['bob'])"
      ],
      "execution_count": 152,
      "outputs": [
        {
          "output_type": "stream",
          "text": [
            "30\n"
          ],
          "name": "stdout"
        }
      ]
    },
    {
      "cell_type": "code",
      "metadata": {
        "id": "LY5Ahjs_YF9_",
        "colab_type": "code",
        "colab": {
          "base_uri": "https://localhost:8080/",
          "height": 34
        },
        "outputId": "35705bbc-f3f4-4d22-e3a1-294b6d039fed"
      },
      "source": [
        "'will' in age"
      ],
      "execution_count": 153,
      "outputs": [
        {
          "output_type": "execute_result",
          "data": {
            "text/plain": [
              "True"
            ]
          },
          "metadata": {
            "tags": []
          },
          "execution_count": 153
        }
      ]
    },
    {
      "cell_type": "code",
      "metadata": {
        "id": "Ti3PX-bzYOmY",
        "colab_type": "code",
        "colab": {
          "base_uri": "https://localhost:8080/",
          "height": 34
        },
        "outputId": "aea33ab2-9931-43b1-ff7a-9e7059c78a7d"
      },
      "source": [
        "'austin' in age"
      ],
      "execution_count": 154,
      "outputs": [
        {
          "output_type": "execute_result",
          "data": {
            "text/plain": [
              "False"
            ]
          },
          "metadata": {
            "tags": []
          },
          "execution_count": 154
        }
      ]
    },
    {
      "cell_type": "code",
      "metadata": {
        "id": "H1mnqt-9YRem",
        "colab_type": "code",
        "colab": {
          "base_uri": "https://localhost:8080/",
          "height": 34
        },
        "outputId": "7248b86a-22fe-4fe8-ba1f-70bcfd32d0bc"
      },
      "source": [
        "print(age.get('will', 'Not found'))"
      ],
      "execution_count": 155,
      "outputs": [
        {
          "output_type": "stream",
          "text": [
            "40\n"
          ],
          "name": "stdout"
        }
      ]
    },
    {
      "cell_type": "code",
      "metadata": {
        "id": "bnvngSAxYeNc",
        "colab_type": "code",
        "colab": {
          "base_uri": "https://localhost:8080/",
          "height": 34
        },
        "outputId": "71d8922c-e0ea-4b6c-994a-33da0f3f92db"
      },
      "source": [
        "del age['will']\n",
        "print(age.get('will', 'Not found'))"
      ],
      "execution_count": 156,
      "outputs": [
        {
          "output_type": "stream",
          "text": [
            "Not found\n"
          ],
          "name": "stdout"
        }
      ]
    },
    {
      "cell_type": "code",
      "metadata": {
        "id": "odhSPiZUYiCD",
        "colab_type": "code",
        "colab": {
          "base_uri": "https://localhost:8080/",
          "height": 51
        },
        "outputId": "49df632f-047c-4258-834c-08044cfd6daa"
      },
      "source": [
        "for key, value in age.items():\n",
        "  print(key, value)"
      ],
      "execution_count": 157,
      "outputs": [
        {
          "output_type": "stream",
          "text": [
            "bob 30\n",
            "john 20\n"
          ],
          "name": "stdout"
        }
      ]
    },
    {
      "cell_type": "markdown",
      "metadata": {
        "id": "u7KJKK1rYrLs",
        "colab_type": "text"
      },
      "source": [
        "# Create Immutable Values with Tuples"
      ]
    },
    {
      "cell_type": "code",
      "metadata": {
        "id": "FgPp9s7WYppZ",
        "colab_type": "code",
        "colab": {
          "base_uri": "https://localhost:8080/",
          "height": 34
        },
        "outputId": "546ad6a0-6ab7-476e-8b1a-161e5887e061"
      },
      "source": [
        "t = 'dog', 'cat', 12345\n",
        "t"
      ],
      "execution_count": 158,
      "outputs": [
        {
          "output_type": "execute_result",
          "data": {
            "text/plain": [
              "('dog', 'cat', 12345)"
            ]
          },
          "metadata": {
            "tags": []
          },
          "execution_count": 158
        }
      ]
    },
    {
      "cell_type": "code",
      "metadata": {
        "id": "X4Ff0PtPY6wP",
        "colab_type": "code",
        "colab": {
          "base_uri": "https://localhost:8080/",
          "height": 34
        },
        "outputId": "c048098a-acd1-4ab4-884c-28e1d828676e"
      },
      "source": [
        "t[0]"
      ],
      "execution_count": 160,
      "outputs": [
        {
          "output_type": "execute_result",
          "data": {
            "text/plain": [
              "'dog'"
            ]
          },
          "metadata": {
            "tags": []
          },
          "execution_count": 160
        }
      ]
    },
    {
      "cell_type": "code",
      "metadata": {
        "id": "j2h4taPNY8YP",
        "colab_type": "code",
        "colab": {
          "base_uri": "https://localhost:8080/",
          "height": 34
        },
        "outputId": "573bd92d-56fe-4900-e4bf-39ab1b277f65"
      },
      "source": [
        "t[1]"
      ],
      "execution_count": 161,
      "outputs": [
        {
          "output_type": "execute_result",
          "data": {
            "text/plain": [
              "'cat'"
            ]
          },
          "metadata": {
            "tags": []
          },
          "execution_count": 161
        }
      ]
    },
    {
      "cell_type": "code",
      "metadata": {
        "id": "FYRGo8h9ZBLV",
        "colab_type": "code",
        "colab": {
          "base_uri": "https://localhost:8080/",
          "height": 578
        },
        "outputId": "a3a0ffc4-3491-4297-9219-dac46ff40f26"
      },
      "source": [
        "dir(t)"
      ],
      "execution_count": 162,
      "outputs": [
        {
          "output_type": "execute_result",
          "data": {
            "text/plain": [
              "['__add__',\n",
              " '__class__',\n",
              " '__contains__',\n",
              " '__delattr__',\n",
              " '__dir__',\n",
              " '__doc__',\n",
              " '__eq__',\n",
              " '__format__',\n",
              " '__ge__',\n",
              " '__getattribute__',\n",
              " '__getitem__',\n",
              " '__getnewargs__',\n",
              " '__gt__',\n",
              " '__hash__',\n",
              " '__init__',\n",
              " '__init_subclass__',\n",
              " '__iter__',\n",
              " '__le__',\n",
              " '__len__',\n",
              " '__lt__',\n",
              " '__mul__',\n",
              " '__ne__',\n",
              " '__new__',\n",
              " '__reduce__',\n",
              " '__reduce_ex__',\n",
              " '__repr__',\n",
              " '__rmul__',\n",
              " '__setattr__',\n",
              " '__sizeof__',\n",
              " '__str__',\n",
              " '__subclasshook__',\n",
              " 'count',\n",
              " 'index']"
            ]
          },
          "metadata": {
            "tags": []
          },
          "execution_count": 162
        }
      ]
    },
    {
      "cell_type": "code",
      "metadata": {
        "id": "k5XeyEMHZES7",
        "colab_type": "code",
        "colab": {
          "base_uri": "https://localhost:8080/",
          "height": 34
        },
        "outputId": "f140e2bd-0342-4af6-8113-cf8fc5b1506b"
      },
      "source": [
        "id(t)"
      ],
      "execution_count": 163,
      "outputs": [
        {
          "output_type": "execute_result",
          "data": {
            "text/plain": [
              "140708050965128"
            ]
          },
          "metadata": {
            "tags": []
          },
          "execution_count": 163
        }
      ]
    },
    {
      "cell_type": "code",
      "metadata": {
        "id": "bDiSJUWKZG8Z",
        "colab_type": "code",
        "colab": {}
      },
      "source": [
        "t = 'dog', 'cat', 12345, 'foo'"
      ],
      "execution_count": 0,
      "outputs": []
    },
    {
      "cell_type": "code",
      "metadata": {
        "id": "PafRh-m2ZN7O",
        "colab_type": "code",
        "colab": {
          "base_uri": "https://localhost:8080/",
          "height": 34
        },
        "outputId": "36ba5b5b-3cae-4e30-8077-e95dbd6fb1de"
      },
      "source": [
        "id(t)"
      ],
      "execution_count": 165,
      "outputs": [
        {
          "output_type": "execute_result",
          "data": {
            "text/plain": [
              "140707506828136"
            ]
          },
          "metadata": {
            "tags": []
          },
          "execution_count": 165
        }
      ]
    },
    {
      "cell_type": "markdown",
      "metadata": {
        "id": "5oUzFAdrZZMJ",
        "colab_type": "text"
      },
      "source": [
        "# Create Unique Unordered Collections with Set"
      ]
    },
    {
      "cell_type": "code",
      "metadata": {
        "id": "CiTQdwA5ZPHF",
        "colab_type": "code",
        "colab": {
          "base_uri": "https://localhost:8080/",
          "height": 34
        },
        "outputId": "55d73f59-21ad-4403-cb2e-8bcec487c7e7"
      },
      "source": [
        "animals = {'monkey', 'bear', 'dog', 'monkey', 'cat', 'bear', 'gorilla'}\n",
        "animals"
      ],
      "execution_count": 166,
      "outputs": [
        {
          "output_type": "execute_result",
          "data": {
            "text/plain": [
              "{'bear', 'cat', 'dog', 'gorilla', 'monkey'}"
            ]
          },
          "metadata": {
            "tags": []
          },
          "execution_count": 166
        }
      ]
    },
    {
      "cell_type": "code",
      "metadata": {
        "id": "aJPMNYEaarsv",
        "colab_type": "code",
        "colab": {
          "base_uri": "https://localhost:8080/",
          "height": 34
        },
        "outputId": "34683b5c-a79c-4cd6-c493-eae3e611273d"
      },
      "source": [
        "'monkey' in animals"
      ],
      "execution_count": 167,
      "outputs": [
        {
          "output_type": "execute_result",
          "data": {
            "text/plain": [
              "True"
            ]
          },
          "metadata": {
            "tags": []
          },
          "execution_count": 167
        }
      ]
    },
    {
      "cell_type": "code",
      "metadata": {
        "id": "Nw0qWbb7a5C7",
        "colab_type": "code",
        "colab": {
          "base_uri": "https://localhost:8080/",
          "height": 34
        },
        "outputId": "9b0c9856-e46f-40d5-f706-caca4d1a497c"
      },
      "source": [
        "'shark' in animals"
      ],
      "execution_count": 168,
      "outputs": [
        {
          "output_type": "execute_result",
          "data": {
            "text/plain": [
              "False"
            ]
          },
          "metadata": {
            "tags": []
          },
          "execution_count": 168
        }
      ]
    },
    {
      "cell_type": "code",
      "metadata": {
        "id": "rVZ79d5Ma6nC",
        "colab_type": "code",
        "colab": {
          "base_uri": "https://localhost:8080/",
          "height": 34
        },
        "outputId": "eb76cfcc-3e33-4791-d03e-9bb1ff4ed1ae"
      },
      "source": [
        "fish = set()\n",
        "fish"
      ],
      "execution_count": 169,
      "outputs": [
        {
          "output_type": "execute_result",
          "data": {
            "text/plain": [
              "set()"
            ]
          },
          "metadata": {
            "tags": []
          },
          "execution_count": 169
        }
      ]
    },
    {
      "cell_type": "code",
      "metadata": {
        "id": "RAq2CBzJa-ID",
        "colab_type": "code",
        "colab": {
          "base_uri": "https://localhost:8080/",
          "height": 34
        },
        "outputId": "4abc245d-72a1-4d66-fda9-64afe5dac704"
      },
      "source": [
        "fish.add('shark')\n",
        "fish.add('guppy')\n",
        "fish.add('whale')\n",
        "fish"
      ],
      "execution_count": 170,
      "outputs": [
        {
          "output_type": "execute_result",
          "data": {
            "text/plain": [
              "{'guppy', 'shark', 'whale'}"
            ]
          },
          "metadata": {
            "tags": []
          },
          "execution_count": 170
        }
      ]
    },
    {
      "cell_type": "code",
      "metadata": {
        "id": "34TmdTOEbFhl",
        "colab_type": "code",
        "colab": {
          "base_uri": "https://localhost:8080/",
          "height": 34
        },
        "outputId": "eab1b067-57ce-4f4d-ad5e-1732f1a43a3f"
      },
      "source": [
        "fish.remove('whale')\n",
        "fish"
      ],
      "execution_count": 171,
      "outputs": [
        {
          "output_type": "execute_result",
          "data": {
            "text/plain": [
              "{'guppy', 'shark'}"
            ]
          },
          "metadata": {
            "tags": []
          },
          "execution_count": 171
        }
      ]
    },
    {
      "cell_type": "code",
      "metadata": {
        "id": "EHdW036LbL8T",
        "colab_type": "code",
        "colab": {
          "base_uri": "https://localhost:8080/",
          "height": 34
        },
        "outputId": "975f60bc-d78a-4791-9bb0-e8b7a86a9719"
      },
      "source": [
        "fish.union(animals)"
      ],
      "execution_count": 173,
      "outputs": [
        {
          "output_type": "execute_result",
          "data": {
            "text/plain": [
              "{'bear', 'cat', 'dog', 'gorilla', 'guppy', 'monkey', 'shark'}"
            ]
          },
          "metadata": {
            "tags": []
          },
          "execution_count": 173
        }
      ]
    },
    {
      "cell_type": "markdown",
      "metadata": {
        "id": "CyI-L5ddbZYm",
        "colab_type": "text"
      },
      "source": [
        "# Invoke the built-in help system with python's dir and help methods"
      ]
    },
    {
      "cell_type": "code",
      "metadata": {
        "id": "VJoKCPIJbOW0",
        "colab_type": "code",
        "colab": {
          "base_uri": "https://localhost:8080/",
          "height": 34
        },
        "outputId": "9258a8d6-2368-446a-8fd4-dfbcbdf459ee"
      },
      "source": [
        "\"foo\""
      ],
      "execution_count": 174,
      "outputs": [
        {
          "output_type": "execute_result",
          "data": {
            "text/plain": [
              "'foo'"
            ]
          },
          "metadata": {
            "tags": []
          },
          "execution_count": 174
        }
      ]
    },
    {
      "cell_type": "code",
      "metadata": {
        "id": "C7Fbm1MfbfxO",
        "colab_type": "code",
        "colab": {
          "base_uri": "https://localhost:8080/",
          "height": 1000
        },
        "outputId": "18b87428-d74f-4129-f693-aca2f373b7a8"
      },
      "source": [
        "dir(\"foo\")"
      ],
      "execution_count": 175,
      "outputs": [
        {
          "output_type": "execute_result",
          "data": {
            "text/plain": [
              "['__add__',\n",
              " '__class__',\n",
              " '__contains__',\n",
              " '__delattr__',\n",
              " '__dir__',\n",
              " '__doc__',\n",
              " '__eq__',\n",
              " '__format__',\n",
              " '__ge__',\n",
              " '__getattribute__',\n",
              " '__getitem__',\n",
              " '__getnewargs__',\n",
              " '__gt__',\n",
              " '__hash__',\n",
              " '__init__',\n",
              " '__init_subclass__',\n",
              " '__iter__',\n",
              " '__le__',\n",
              " '__len__',\n",
              " '__lt__',\n",
              " '__mod__',\n",
              " '__mul__',\n",
              " '__ne__',\n",
              " '__new__',\n",
              " '__reduce__',\n",
              " '__reduce_ex__',\n",
              " '__repr__',\n",
              " '__rmod__',\n",
              " '__rmul__',\n",
              " '__setattr__',\n",
              " '__sizeof__',\n",
              " '__str__',\n",
              " '__subclasshook__',\n",
              " 'capitalize',\n",
              " 'casefold',\n",
              " 'center',\n",
              " 'count',\n",
              " 'encode',\n",
              " 'endswith',\n",
              " 'expandtabs',\n",
              " 'find',\n",
              " 'format',\n",
              " 'format_map',\n",
              " 'index',\n",
              " 'isalnum',\n",
              " 'isalpha',\n",
              " 'isdecimal',\n",
              " 'isdigit',\n",
              " 'isidentifier',\n",
              " 'islower',\n",
              " 'isnumeric',\n",
              " 'isprintable',\n",
              " 'isspace',\n",
              " 'istitle',\n",
              " 'isupper',\n",
              " 'join',\n",
              " 'ljust',\n",
              " 'lower',\n",
              " 'lstrip',\n",
              " 'maketrans',\n",
              " 'partition',\n",
              " 'replace',\n",
              " 'rfind',\n",
              " 'rindex',\n",
              " 'rjust',\n",
              " 'rpartition',\n",
              " 'rsplit',\n",
              " 'rstrip',\n",
              " 'split',\n",
              " 'splitlines',\n",
              " 'startswith',\n",
              " 'strip',\n",
              " 'swapcase',\n",
              " 'title',\n",
              " 'translate',\n",
              " 'upper',\n",
              " 'zfill']"
            ]
          },
          "metadata": {
            "tags": []
          },
          "execution_count": 175
        }
      ]
    },
    {
      "cell_type": "code",
      "metadata": {
        "id": "IJs83wVJbi5-",
        "colab_type": "code",
        "colab": {
          "base_uri": "https://localhost:8080/",
          "height": 34
        },
        "outputId": "2081c847-3426-4163-b7a9-ccec19a3dce6"
      },
      "source": [
        "\"foo\" + \"bar\""
      ],
      "execution_count": 176,
      "outputs": [
        {
          "output_type": "execute_result",
          "data": {
            "text/plain": [
              "'foobar'"
            ]
          },
          "metadata": {
            "tags": []
          },
          "execution_count": 176
        }
      ]
    },
    {
      "cell_type": "code",
      "metadata": {
        "id": "SAzXu07IbqEF",
        "colab_type": "code",
        "colab": {
          "base_uri": "https://localhost:8080/",
          "height": 136
        },
        "outputId": "6a18bd1a-dac6-4ebd-f07f-66a3aa516d88"
      },
      "source": [
        "help(\"foo\".upper)"
      ],
      "execution_count": 177,
      "outputs": [
        {
          "output_type": "stream",
          "text": [
            "Help on built-in function upper:\n",
            "\n",
            "upper(...) method of builtins.str instance\n",
            "    S.upper() -> str\n",
            "    \n",
            "    Return a copy of S converted to uppercase.\n",
            "\n"
          ],
          "name": "stdout"
        }
      ]
    },
    {
      "cell_type": "code",
      "metadata": {
        "id": "iWVFbKDHbtw7",
        "colab_type": "code",
        "colab": {
          "base_uri": "https://localhost:8080/",
          "height": 34
        },
        "outputId": "21b2dabb-cae8-4d8a-ff25-360615336b78"
      },
      "source": [
        "\"foo\".upper()"
      ],
      "execution_count": 178,
      "outputs": [
        {
          "output_type": "execute_result",
          "data": {
            "text/plain": [
              "'FOO'"
            ]
          },
          "metadata": {
            "tags": []
          },
          "execution_count": 178
        }
      ]
    },
    {
      "cell_type": "markdown",
      "metadata": {
        "id": "Hla7YgJQb1t5",
        "colab_type": "text"
      },
      "source": [
        "# Create a Log for your application"
      ]
    },
    {
      "cell_type": "code",
      "metadata": {
        "id": "TzkE7-KabyZt",
        "colab_type": "code",
        "colab": {
          "base_uri": "https://localhost:8080/",
          "height": 34
        },
        "outputId": "92e607ef-ba70-496a-e1e4-7ce75aba5495"
      },
      "source": [
        "print('Oops, an error!')"
      ],
      "execution_count": 179,
      "outputs": [
        {
          "output_type": "stream",
          "text": [
            "Oops, an error!\n"
          ],
          "name": "stdout"
        }
      ]
    },
    {
      "cell_type": "code",
      "metadata": {
        "id": "BdbdH5Hmb9Gh",
        "colab_type": "code",
        "colab": {
          "base_uri": "https://localhost:8080/",
          "height": 34
        },
        "outputId": "785bef06-9420-479e-a5d3-d0cf3e640100"
      },
      "source": [
        "import logging\n",
        "logging.warning('This is a warning')\n",
        "# critical\n",
        "# error\n",
        "# info\n",
        "# debug"
      ],
      "execution_count": 182,
      "outputs": [
        {
          "output_type": "stream",
          "text": [
            "WARNING:root:This is a warning\n"
          ],
          "name": "stderr"
        }
      ]
    },
    {
      "cell_type": "code",
      "metadata": {
        "id": "C6mCCCsLcDMo",
        "colab_type": "code",
        "colab": {}
      },
      "source": [
        "logging.info('Info message')"
      ],
      "execution_count": 0,
      "outputs": []
    },
    {
      "cell_type": "code",
      "metadata": {
        "id": "jhV9opwmcVJ4",
        "colab_type": "code",
        "colab": {
          "base_uri": "https://localhost:8080/",
          "height": 34
        },
        "outputId": "179b9e8e-b43b-414f-84c9-70300efcc7fc"
      },
      "source": [
        "import logging\n",
        "\n",
        "logging.basicConfig(filename='/content/demo.log', level=logging.INFO) # change INFO with DEBUG to see debug message\n",
        "\n",
        "for i in range(0, 100):\n",
        "  if i % 5 == 0:\n",
        "    logging.debug('Found a number divisible by 5: {0}'.format(i))\n",
        "  else:\n",
        "    logging.info('At number {0}'.format(i))\n",
        "\n",
        "logging.warning('Finished sequence')"
      ],
      "execution_count": 189,
      "outputs": [
        {
          "output_type": "stream",
          "text": [
            "WARNING:root:Finished sequence\n"
          ],
          "name": "stderr"
        }
      ]
    },
    {
      "cell_type": "code",
      "metadata": {
        "id": "OZ6Hr-Z-dfYP",
        "colab_type": "code",
        "colab": {
          "base_uri": "https://localhost:8080/",
          "height": 34
        },
        "outputId": "231ea998-808f-43a7-a5ad-e2080469b024"
      },
      "source": [
        "import logging\n",
        "\n",
        "logging.basicConfig(filename='/content/demo.log', level=logging.DEBUG, format='%(asctime)s %(levelname)s:%(message)')\n",
        "\n",
        "for i in range(0, 100):\n",
        "  if i % 5 == 0:\n",
        "    logging.debug('Found a number divisible by 5: {0}'.format(i))\n",
        "  else:\n",
        "    logging.info('At number {0}'.format(i))\n",
        "\n",
        "logging.warning('Finished sequence')"
      ],
      "execution_count": 191,
      "outputs": [
        {
          "output_type": "stream",
          "text": [
            "WARNING:root:Finished sequence\n"
          ],
          "name": "stderr"
        }
      ]
    },
    {
      "cell_type": "markdown",
      "metadata": {
        "id": "OatQXAivfriI",
        "colab_type": "text"
      },
      "source": [
        "```\n",
        "import sys\n",
        "import getopt\n",
        "import logging\n",
        "\n",
        "opts, args = getopt.getopt(sys.argv[1:], \"l:\", [\"log=\"])\n",
        "\n",
        "log_level=\"INFO\"\n",
        "for opt, arg in opts:\n",
        "    if opt in (\"-l\", \"--log\"):\n",
        "        log_level = getattr(logging, arg.upper())\n",
        "\n",
        "logging.basicConfig(filename='./demo.log', level=log_level, format='%(asctime)s %(levelname)s:%(message)s')\n",
        "\n",
        "for i in range(0, 100):\n",
        "    if i % 5 == 0:\n",
        "        logging.debug('Found a number divisible by 5: {0}'.format(i))\n",
        "    else:\n",
        "        logging.info('At number {0}'.format(i))\n",
        "logging.warning('Finished sequence')\n",
        "```"
      ]
    },
    {
      "cell_type": "markdown",
      "metadata": {
        "id": "HZJITpGuf6Ic",
        "colab_type": "text"
      },
      "source": [
        "# Read Input from the Console"
      ]
    },
    {
      "cell_type": "code",
      "metadata": {
        "id": "Wk3cWP5hgaaN",
        "colab_type": "code",
        "colab": {
          "base_uri": "https://localhost:8080/",
          "height": 51
        },
        "outputId": "5e98a2d8-4f0f-4388-f8f9-51f028415fa9"
      },
      "source": [
        "name = input('Name: ')\n",
        "print('Hello, {0} nice to meet you!'.format(name))"
      ],
      "execution_count": 196,
      "outputs": [
        {
          "output_type": "stream",
          "text": [
            "Name: Max\n",
            "Hello, Max nice to meet you!\n"
          ],
          "name": "stdout"
        }
      ]
    },
    {
      "cell_type": "code",
      "metadata": {
        "id": "ovZXJbRGgiFl",
        "colab_type": "code",
        "colab": {
          "base_uri": "https://localhost:8080/",
          "height": 85
        },
        "outputId": "f10b675b-197b-4e2d-9f91-caa2aa392eac"
      },
      "source": [
        "name = input('Name: ')\n",
        "job = input('Occupation: ')\n",
        "location = input('Location: ')\n",
        "\n",
        "print(\"Hi {0}, being a {1} in {2} must be exciting!\".format(name, job, location))"
      ],
      "execution_count": 197,
      "outputs": [
        {
          "output_type": "stream",
          "text": [
            "Name: Max\n",
            "Occupation: developer\n",
            "Location: London\n",
            "Hi Max, being a developer in London must be exciting!\n"
          ],
          "name": "stdout"
        }
      ]
    },
    {
      "cell_type": "code",
      "metadata": {
        "id": "ExcKWLA9hCFt",
        "colab_type": "code",
        "colab": {
          "base_uri": "https://localhost:8080/",
          "height": 51
        },
        "outputId": "7ae3a552-ce0d-422d-e53a-f35a139ae13e"
      },
      "source": [
        "response = input('Is it?')\n",
        "if response in ('yes', 'y', 'yeah'):\n",
        "  print(\"How exciting!\")\n",
        "elif response in ('no', 'n', 'nope'):\n",
        "  print(\"That's too bad!\")\n",
        "else:\n",
        "  print(\"Yeah, I thought so too!\")"
      ],
      "execution_count": 198,
      "outputs": [
        {
          "output_type": "stream",
          "text": [
            "Is it?y\n",
            "How exciting!\n"
          ],
          "name": "stdout"
        }
      ]
    },
    {
      "cell_type": "code",
      "metadata": {
        "id": "ex4nbn2ahQ-l",
        "colab_type": "code",
        "colab": {
          "base_uri": "https://localhost:8080/",
          "height": 68
        },
        "outputId": "369e04bb-51cf-4aea-e6f6-5573c7631115"
      },
      "source": [
        "num1 = input('Enter a number: ')\n",
        "num2 = input('Enter another number: ')\n",
        "print(int(num1) + int(num2))"
      ],
      "execution_count": 199,
      "outputs": [
        {
          "output_type": "stream",
          "text": [
            "Enter a number: 3\n",
            "Enter another number: 6\n",
            "9\n"
          ],
          "name": "stdout"
        }
      ]
    },
    {
      "cell_type": "markdown",
      "metadata": {
        "id": "Zrh0nhBqN0rV",
        "colab_type": "text"
      },
      "source": [
        "# Create Reusable Components with Functions"
      ]
    },
    {
      "cell_type": "code",
      "metadata": {
        "id": "CiJ7aD24hcVL",
        "colab_type": "code",
        "colab": {
          "base_uri": "https://localhost:8080/",
          "height": 34
        },
        "outputId": "a2c36a15-e8a0-4fb5-d9bd-112bac805117"
      },
      "source": [
        "def say_name():\n",
        "  print(\"Heisenberg\")\n",
        "\n",
        "say_name()"
      ],
      "execution_count": 1,
      "outputs": [
        {
          "output_type": "stream",
          "text": [
            "Heisenberg\n"
          ],
          "name": "stdout"
        }
      ]
    },
    {
      "cell_type": "code",
      "metadata": {
        "id": "6H3FRvJXOGl4",
        "colab_type": "code",
        "colab": {
          "base_uri": "https://localhost:8080/",
          "height": 51
        },
        "outputId": "7e23bd53-7c9d-45ff-c09f-9ca7ce5f50bd"
      },
      "source": [
        "def say_name():\n",
        "  print(\"Heisenberg\")\n",
        "\n",
        "foo = say_name()\n",
        "print(foo)"
      ],
      "execution_count": 3,
      "outputs": [
        {
          "output_type": "stream",
          "text": [
            "Heisenberg\n",
            "None\n"
          ],
          "name": "stdout"
        }
      ]
    },
    {
      "cell_type": "code",
      "metadata": {
        "id": "I11PJhw9ONj6",
        "colab_type": "code",
        "colab": {
          "base_uri": "https://localhost:8080/",
          "height": 34
        },
        "outputId": "72273a85-64eb-4979-b03a-d1b3936e6803"
      },
      "source": [
        "def say_name(name):\n",
        "  return name\n",
        "\n",
        "foo = say_name(\"Max\")\n",
        "print(foo)"
      ],
      "execution_count": 4,
      "outputs": [
        {
          "output_type": "stream",
          "text": [
            "Max\n"
          ],
          "name": "stdout"
        }
      ]
    },
    {
      "cell_type": "code",
      "metadata": {
        "id": "blWaZcp4OZ0R",
        "colab_type": "code",
        "colab": {
          "base_uri": "https://localhost:8080/",
          "height": 34
        },
        "outputId": "3e31efc6-d871-4955-9b5e-db43c7af035b"
      },
      "source": [
        "def say_name(name):\n",
        "  \"\"\"\n",
        "  Returns name passed in as a parameter\n",
        "  \"\"\"\n",
        "  return name\n",
        "\n",
        "foo = say_name(\"Max\")\n",
        "print(foo)"
      ],
      "execution_count": 6,
      "outputs": [
        {
          "output_type": "stream",
          "text": [
            "Max\n"
          ],
          "name": "stdout"
        }
      ]
    },
    {
      "cell_type": "code",
      "metadata": {
        "id": "4F8wKtEbOdge",
        "colab_type": "code",
        "colab": {
          "base_uri": "https://localhost:8080/",
          "height": 34
        },
        "outputId": "80e838fb-27fa-4b8c-eed6-f766c9b29748"
      },
      "source": [
        "def add(num1, num2):\n",
        "  return num1 + num2\n",
        "\n",
        "num1 = add(1, 2)\n",
        "print(num1)"
      ],
      "execution_count": 7,
      "outputs": [
        {
          "output_type": "stream",
          "text": [
            "3\n"
          ],
          "name": "stdout"
        }
      ]
    },
    {
      "cell_type": "code",
      "metadata": {
        "id": "x9vVOnY2PMqd",
        "colab_type": "code",
        "colab": {
          "base_uri": "https://localhost:8080/",
          "height": 34
        },
        "outputId": "80e5d8bf-74dd-400a-f9f4-b9de278efedd"
      },
      "source": [
        "def add(num1=1, num2=2):\n",
        "  return num1 + num2\n",
        "\n",
        "num1 = add()\n",
        "print(num1)"
      ],
      "execution_count": 8,
      "outputs": [
        {
          "output_type": "stream",
          "text": [
            "3\n"
          ],
          "name": "stdout"
        }
      ]
    },
    {
      "cell_type": "code",
      "metadata": {
        "id": "7Klo5zv8PY5K",
        "colab_type": "code",
        "colab": {
          "base_uri": "https://localhost:8080/",
          "height": 34
        },
        "outputId": "b8d74f36-8ac5-4875-9c37-bf4e64fb18cf"
      },
      "source": [
        "def madlibs(name, noun=\"shoes\", adjective=\"red\"):\n",
        "  return \"{0} has {1} {2}\".format(name, adjective, noun)\n",
        "\n",
        "madlibs(\"Max\")"
      ],
      "execution_count": 9,
      "outputs": [
        {
          "output_type": "execute_result",
          "data": {
            "text/plain": [
              "'Max has red shoes'"
            ]
          },
          "metadata": {
            "tags": []
          },
          "execution_count": 9
        }
      ]
    },
    {
      "cell_type": "code",
      "metadata": {
        "id": "a4s53qcvPtuC",
        "colab_type": "code",
        "colab": {
          "base_uri": "https://localhost:8080/",
          "height": 34
        },
        "outputId": "87a5d03d-595c-495b-d33f-f3b1df1b8445"
      },
      "source": [
        "def madlibs(name, noun=\"shoes\", adjective=\"red\"):\n",
        "  return \"{0} has {1} {2}\".format(name, adjective, noun)\n",
        "\n",
        "madlibs(\"Max\", noun=\"boots\", adjective=\"black\")"
      ],
      "execution_count": 10,
      "outputs": [
        {
          "output_type": "execute_result",
          "data": {
            "text/plain": [
              "'Max has black boots'"
            ]
          },
          "metadata": {
            "tags": []
          },
          "execution_count": 10
        }
      ]
    },
    {
      "cell_type": "markdown",
      "metadata": {
        "id": "iXTFGWcbQDqT",
        "colab_type": "text"
      },
      "source": [
        "# Reuse Code in Multiple Projects Modules"
      ]
    },
    {
      "cell_type": "code",
      "metadata": {
        "id": "c1sB9i-CP1rZ",
        "colab_type": "code",
        "colab": {}
      },
      "source": [
        "def total(n):\n",
        "  tax_rate = .07\n",
        "  return n * tax_rate + n\n",
        "\n",
        "# save the above file with tax as a name\n",
        "\n",
        "# import tax\n",
        "# print(tax.total(5))\n",
        "# 5.35"
      ],
      "execution_count": 0,
      "outputs": []
    },
    {
      "cell_type": "code",
      "metadata": {
        "id": "wKhJZi0pQs-R",
        "colab_type": "code",
        "colab": {}
      },
      "source": [
        "def total(n):\n",
        "  tax_rate = .07\n",
        "  return n * tax_rate + n\n",
        "\n",
        "def tax_amount(n):\n",
        "  tax_rate = .07\n",
        "  return n * tax_rate\n",
        "\n",
        "# if __name__ == \"__main__\":\n",
        "#   import sys\n",
        "#   print(total(int(sys.argv[1])))\n",
        "\n",
        "# python3 tax.py 10\n",
        "# 10.7\n",
        "\n",
        "# from tax import tax_amount\n",
        "# is only going to import 1 function"
      ],
      "execution_count": 0,
      "outputs": []
    },
    {
      "cell_type": "markdown",
      "metadata": {
        "id": "wsnGv4OWSZyF",
        "colab_type": "text"
      },
      "source": [
        "# Read and Parse Files"
      ]
    },
    {
      "cell_type": "code",
      "metadata": {
        "id": "FGx9bPOhSOvP",
        "colab_type": "code",
        "colab": {
          "base_uri": "https://localhost:8080/",
          "height": 255
        },
        "outputId": "7aaf8f43-57bc-4008-ba49-2ba2d3305f63"
      },
      "source": [
        "import pandas\n",
        "\n",
        "f = pandas.read_csv('/content/sample_data/mnist_test.csv')\n",
        "print(f)"
      ],
      "execution_count": 19,
      "outputs": [
        {
          "output_type": "stream",
          "text": [
            "      7  0  0.1  0.2  0.3  0.4  ...  0.662  0.663  0.664  0.665  0.666  0.667\n",
            "0     2  0    0    0    0    0  ...      0      0      0      0      0      0\n",
            "1     1  0    0    0    0    0  ...      0      0      0      0      0      0\n",
            "2     0  0    0    0    0    0  ...      0      0      0      0      0      0\n",
            "3     4  0    0    0    0    0  ...      0      0      0      0      0      0\n",
            "4     1  0    0    0    0    0  ...      0      0      0      0      0      0\n",
            "...  .. ..  ...  ...  ...  ...  ...    ...    ...    ...    ...    ...    ...\n",
            "9994  2  0    0    0    0    0  ...      0      0      0      0      0      0\n",
            "9995  3  0    0    0    0    0  ...      0      0      0      0      0      0\n",
            "9996  4  0    0    0    0    0  ...      0      0      0      0      0      0\n",
            "9997  5  0    0    0    0    0  ...      0      0      0      0      0      0\n",
            "9998  6  0    0    0    0    0  ...      0      0      0      0      0      0\n",
            "\n",
            "[9999 rows x 785 columns]\n"
          ],
          "name": "stdout"
        }
      ]
    },
    {
      "cell_type": "code",
      "metadata": {
        "id": "rm0mOsjwTZyi",
        "colab_type": "code",
        "colab": {}
      },
      "source": [
        "# f = open('animals.csv') # no param => read mode is assumed\n",
        "\n",
        "# for line in f:\n",
        "#   print(line)\n",
        "\n",
        "# f.close()\n",
        "\n",
        "# OR\n",
        "\n",
        "# with open('animals.csv', 'r') as f:\n",
        "#   print(f.read())"
      ],
      "execution_count": 0,
      "outputs": []
    },
    {
      "cell_type": "code",
      "metadata": {
        "id": "Y7_SnHhlV9Y9",
        "colab_type": "code",
        "colab": {}
      },
      "source": [
        "# import csv\n",
        "# with open('animals.csv', 'r') as f:\n",
        "#     animals = csv.reader(f)\n",
        "#     for row in animals:\n",
        "#         if row[-1] == 'True':\n",
        "#             print(\"{0} is a {1} and is housebroken\".format(row[0], row[1]))\n",
        "#         elif row[-1] == 'False':\n",
        "#             print(\"{0} is a {1} and is not housebroken!\".format(row[0], row[1]))\n",
        "\n",
        "# import json\n",
        "# with open('animals.json', 'r') as r:\n",
        "#     data = json.load(r)\n",
        "#     for row in data:\n",
        "#         print(row['name'])"
      ],
      "execution_count": 0,
      "outputs": []
    },
    {
      "cell_type": "markdown",
      "metadata": {
        "id": "AiUE1fbEWBZD",
        "colab_type": "text"
      },
      "source": [
        "# Write to a File"
      ]
    },
    {
      "cell_type": "code",
      "metadata": {
        "id": "Vri6fKeLWH5N",
        "colab_type": "code",
        "colab": {}
      },
      "source": [
        "# f = open('cars.txt', 'a')\n",
        "# cars = ['chevy', 'tesla', 'ford']\n",
        "# for car in cars:\n",
        "#     f.write(car + '\\n')\n",
        "\n",
        "# f.close()\n",
        "\n",
        "# with open('cars.txt', 'a') as f:\n",
        "#     cars = ['chevy', 'vw', 'mazda']\n",
        "#     for car in cars:\n",
        "#         f.write(car + '\\n')\n",
        "\n",
        "# cars = [\n",
        "#     {\"make\": \"chevy\"},\n",
        "#     {\"make\": \"tesla\"},\n",
        "#     {\"make\": \"porsche\"}\n",
        "# ]\n",
        "# import json\n",
        "# with open('cars.json', 'w') as f:\n",
        "#     json.dump(cars, f)"
      ],
      "execution_count": 0,
      "outputs": []
    },
    {
      "cell_type": "markdown",
      "metadata": {
        "id": "iMbELKBoWS71",
        "colab_type": "text"
      },
      "source": [
        "# Handle Exceptions to prevent crashes"
      ]
    },
    {
      "cell_type": "code",
      "metadata": {
        "id": "YWQA55LtWSOa",
        "colab_type": "code",
        "colab": {
          "base_uri": "https://localhost:8080/",
          "height": 34
        },
        "outputId": "0a637f93-bd2a-402e-b5e3-57e188cd9eb8"
      },
      "source": [
        "import sys\n",
        "\n",
        "# print(int(sys.argv[1]) / int(sys.argv[2]))\n",
        "\n",
        "try:\n",
        "    print(int(sys.argv[1]) / int(sys.argv[2]))\n",
        "except ValueError as e:\n",
        "    print('You must enter a valid number')\n",
        "except ZeroDivisionError as e:\n",
        "    print(\"You can't divide by zero\")"
      ],
      "execution_count": 23,
      "outputs": [
        {
          "output_type": "stream",
          "text": [
            "You must enter a valid number\n"
          ],
          "name": "stdout"
        }
      ]
    },
    {
      "cell_type": "markdown",
      "metadata": {
        "id": "VheIVGhKCJvL",
        "colab_type": "text"
      },
      "source": [
        "# Understand Scope"
      ]
    },
    {
      "cell_type": "code",
      "metadata": {
        "id": "7eLyVx8gXWY8",
        "colab_type": "code",
        "colab": {
          "base_uri": "https://localhost:8080/",
          "height": 34
        },
        "outputId": "1de09189-876d-4901-9e9a-a73ea9d95a0b"
      },
      "source": [
        "def whoami():\n",
        "  i = \"I am Groot\"\n",
        "  print(i)\n",
        "\n",
        "whoami()"
      ],
      "execution_count": 2,
      "outputs": [
        {
          "output_type": "stream",
          "text": [
            "I am Groot\n"
          ],
          "name": "stdout"
        }
      ]
    },
    {
      "cell_type": "code",
      "metadata": {
        "id": "EFUrbYJHCZRH",
        "colab_type": "code",
        "colab": {
          "base_uri": "https://localhost:8080/",
          "height": 68
        },
        "outputId": "fc3c81a9-7fd0-4a2a-e059-e98ebba037aa"
      },
      "source": [
        "def whoami():\n",
        "  def local_groot():\n",
        "    i = \"I am local groot\"\n",
        "    print(i)\n",
        "  i = \"I am groot\"\n",
        "  print(i)\n",
        "  local_groot()\n",
        "  print(i)\n",
        "\n",
        "whoami()"
      ],
      "execution_count": 4,
      "outputs": [
        {
          "output_type": "stream",
          "text": [
            "I am groot\n",
            "I am local groot\n",
            "I am groot\n"
          ],
          "name": "stdout"
        }
      ]
    },
    {
      "cell_type": "code",
      "metadata": {
        "id": "4qZ31gC-Cw2I",
        "colab_type": "code",
        "colab": {
          "base_uri": "https://localhost:8080/",
          "height": 119
        },
        "outputId": "07d4863b-dc19-41e4-b7ad-5195380c8705"
      },
      "source": [
        "def whoami():\n",
        "  def local_groot():\n",
        "    i = \"I am local groot\"\n",
        "    print(id(i))\n",
        "    print(i)\n",
        "  i = \"I am groot\"\n",
        "  print(id(i))\n",
        "  print(i)\n",
        "  local_groot()\n",
        "  print(id(i))\n",
        "  print(i)\n",
        "\n",
        "whoami()"
      ],
      "execution_count": 5,
      "outputs": [
        {
          "output_type": "stream",
          "text": [
            "139823330576112\n",
            "I am groot\n",
            "139823330560160\n",
            "I am local groot\n",
            "139823330576112\n",
            "I am groot\n"
          ],
          "name": "stdout"
        }
      ]
    },
    {
      "cell_type": "code",
      "metadata": {
        "id": "-iTAbc4UDAXD",
        "colab_type": "code",
        "colab": {
          "base_uri": "https://localhost:8080/",
          "height": 68
        },
        "outputId": "60757a6d-90a5-4d3e-a106-c3ec6bd66c4a"
      },
      "source": [
        "def whoami():\n",
        "  def local_groot():\n",
        "    i = \"I am local groot\"\n",
        "\n",
        "  def nonlocal_groot():\n",
        "    nonlocal i # not local to this function\n",
        "    i = \"I am nonlocal groot\"\n",
        "\n",
        "  i = \"I am groot\"\n",
        "  print(i)\n",
        "  local_groot()\n",
        "  print(i)\n",
        "  nonlocal_groot()\n",
        "  print(i)\n",
        "\n",
        "whoami()"
      ],
      "execution_count": 11,
      "outputs": [
        {
          "output_type": "stream",
          "text": [
            "I am groot\n",
            "I am groot\n",
            "I am nonlocal groot\n"
          ],
          "name": "stdout"
        }
      ]
    },
    {
      "cell_type": "code",
      "metadata": {
        "id": "jDQk11OrD4nR",
        "colab_type": "code",
        "colab": {
          "base_uri": "https://localhost:8080/",
          "height": 102
        },
        "outputId": "2407221b-55e8-4068-9c32-05c3bc690d96"
      },
      "source": [
        "def whoami():\n",
        "  def local_groot():\n",
        "    i = \"I am local groot\"\n",
        "\n",
        "  def nonlocal_groot():\n",
        "    nonlocal i # not local to this function\n",
        "    i = \"I am nonlocal groot\"\n",
        "  \n",
        "  def global_groot():\n",
        "    global i # not local to this function\n",
        "    i = \"I am global groot\"\n",
        "\n",
        "  i = \"I am groot\"\n",
        "  print(i)\n",
        "  local_groot()\n",
        "  print(i)\n",
        "  nonlocal_groot()\n",
        "  print(i)\n",
        "  global_groot()\n",
        "  print(i)\n",
        "\n",
        "whoami()\n",
        "print(i)"
      ],
      "execution_count": 13,
      "outputs": [
        {
          "output_type": "stream",
          "text": [
            "I am groot\n",
            "I am groot\n",
            "I am nonlocal groot\n",
            "I am nonlocal groot\n",
            "I am global groot\n"
          ],
          "name": "stdout"
        }
      ]
    },
    {
      "cell_type": "markdown",
      "metadata": {
        "id": "PeTfiKsiFhno",
        "colab_type": "text"
      },
      "source": [
        "# Use Classes"
      ]
    },
    {
      "cell_type": "code",
      "metadata": {
        "id": "7d9hXOKdEyEl",
        "colab_type": "code",
        "colab": {}
      },
      "source": [
        "class Ball:\n",
        "  color = 'red'\n",
        "\n",
        "# from ball import Ball\n",
        "# my_ball = Ball()\n",
        "# my_ball.color"
      ],
      "execution_count": 0,
      "outputs": []
    },
    {
      "cell_type": "code",
      "metadata": {
        "id": "1SBRl2kLGXWl",
        "colab_type": "code",
        "colab": {}
      },
      "source": [
        "# class Ball:\n",
        "#   def __init__(self, radius, color, weight):\n",
        "#     self.radius = radius\n",
        "#     self.color = color\n",
        "#     self.weight = weight\n",
        "\n",
        "# class Football:\n",
        "#   \"\"\"A standard, regulation NFL ball\"\"\"\n",
        "#   def __init__(self, diameter, color, pressure):\n",
        "#     self.diameter = diameter\n",
        "#     self.color = color\n",
        "#     self.pressure = pressure\n",
        "\n",
        "#   def inflate(self, psi):\n",
        "#     self.pressure = self.pressure + psi\n",
        "\n",
        "#   def deflate(self, psi):\n",
        "#     self.pressure = self.pressure - psi\n",
        "\n",
        "# class PatriotsBall(Football):\n",
        "#   def inflate(self, psi):\n",
        "#      self.pressure = self.pressure - psi"
      ],
      "execution_count": 0,
      "outputs": []
    },
    {
      "cell_type": "markdown",
      "metadata": {
        "id": "wkrqqeGsJxWM",
        "colab_type": "text"
      },
      "source": [
        "# Manage packages with pip"
      ]
    },
    {
      "cell_type": "code",
      "metadata": {
        "id": "fJvxtLlCJzmB",
        "colab_type": "code",
        "colab": {}
      },
      "source": [
        "# virtualenv -p /usr/local/bin/python3 venv\n",
        "# source venv/bin/activate\n",
        "# pip install requests"
      ],
      "execution_count": 0,
      "outputs": []
    },
    {
      "cell_type": "code",
      "metadata": {
        "id": "GMKo2BPEKK5z",
        "colab_type": "code",
        "colab": {
          "base_uri": "https://localhost:8080/",
          "height": 102
        },
        "outputId": "52a49eff-66b5-4fba-a916-c9d4a0d22cf5"
      },
      "source": [
        "pip install requests"
      ],
      "execution_count": 22,
      "outputs": [
        {
          "output_type": "stream",
          "text": [
            "Requirement already satisfied: requests in /usr/local/lib/python3.6/dist-packages (2.23.0)\n",
            "Requirement already satisfied: chardet<4,>=3.0.2 in /usr/local/lib/python3.6/dist-packages (from requests) (3.0.4)\n",
            "Requirement already satisfied: certifi>=2017.4.17 in /usr/local/lib/python3.6/dist-packages (from requests) (2020.4.5.1)\n",
            "Requirement already satisfied: urllib3!=1.25.0,!=1.25.1,<1.26,>=1.21.1 in /usr/local/lib/python3.6/dist-packages (from requests) (1.24.3)\n",
            "Requirement already satisfied: idna<3,>=2.5 in /usr/local/lib/python3.6/dist-packages (from requests) (2.9)\n"
          ],
          "name": "stdout"
        }
      ]
    },
    {
      "cell_type": "code",
      "metadata": {
        "id": "DJjVllyjKLnN",
        "colab_type": "code",
        "colab": {
          "base_uri": "https://localhost:8080/",
          "height": 71
        },
        "outputId": "d7394f19-fa5f-4938-ce9e-058175615538"
      },
      "source": [
        "import requests\n",
        "\n",
        "r = requests.get('http://httpbin.org/get')\n",
        "print(r.status_code)\n",
        "print(r.content)"
      ],
      "execution_count": 23,
      "outputs": [
        {
          "output_type": "stream",
          "text": [
            "200\n",
            "b'{\\n  \"args\": {}, \\n  \"headers\": {\\n    \"Accept\": \"*/*\", \\n    \"Accept-Encoding\": \"gzip, deflate\", \\n    \"Host\": \"httpbin.org\", \\n    \"User-Agent\": \"python-requests/2.23.0\", \\n    \"X-Amzn-Trace-Id\": \"Root=1-5eaee3c0-66032a94ec72b0fc484e7f94\"\\n  }, \\n  \"origin\": \"34.71.97.222\", \\n  \"url\": \"http://httpbin.org/get\"\\n}\\n'\n"
          ],
          "name": "stdout"
        }
      ]
    },
    {
      "cell_type": "code",
      "metadata": {
        "id": "XSG5YI6oKaEx",
        "colab_type": "code",
        "colab": {
          "base_uri": "https://localhost:8080/",
          "height": 1000
        },
        "outputId": "423509e0-df01-4e44-b05f-24fde654bd43"
      },
      "source": [
        "pip search Amazon"
      ],
      "execution_count": 24,
      "outputs": [
        {
          "output_type": "stream",
          "text": [
            "django-amazon (0.0.2)                              - Amazon Django app\n",
            "amazon-mws (0.2.3)                                 - A python interface for Amazon MWS\n",
            "Amazon-crawler (0.0.3)                             - A high concurrency crawler framework for Amazon\n",
            "amazon-kclpy (2.0.1)                               - A python interface for the Amazon Kinesis Client Library MultiLangDaemon\n",
            "amazon-paapi5 (1.1.2)                              - Amazon Product Advertising API 5.0 wrapper for Python\n",
            "amazon-dash (1.4.0)                                - Hack your Amazon Dash to run what you want.\n",
            "\n",
            "Python-Amazon (0.5)                                - Set of python modules for manipulating  with Amazon S3 and SQS services.\n",
            "stylelens-crawl-amazon (0.0.64)                    - stylelens-crawl-amazon\n",
            "amazon-kinesis-utils (0.1.8)                       - amazon-kinesis-utils: a library of useful utilities for Amazon Kinesis\n",
            "python-amazon-mws (0.6)                            - A python interface for Amazon MWS\n",
            "amazon-dax-client (1.1.7)                          - Amazon DAX Client for Python\n",
            "amazon-page-parser (0.1.4)                         - A library for parsing amazon pages.\n",
            "smsframework-amazon-sns (0.0.2)                    - SMS framework: Amazon SNS provider\n",
            "rgmining-amazon-dataset (0.5.1)                    - An Amazon dataset for Review Graph Mining Project\n",
            "python-amazon-paapi (3.2.0)                        - Amazon Product Advertising API 5.0 wrapper for Python\n",
            "amazon-kclpy-test (1.3.0)                          - A python interface for the Amazon Kinesis Client Library MultiLangDaemon\n",
            "python-amazon-unthrottled-paapi (0.1.1)            - Amazon Unthrottled Access to Amazon Product Advertising API for Python\n",
            "tap-amazon-mws (0.0.1)                             - Singer.io tap for extracting data from the Amazon MWS API\n",
            "Phils-Amazon-Price-Tracker (1.2.0.dev1)            - An Amazon Product Price Tracker\n",
            "mint-amazon-tagger (1.29)                          - Fetches your Amazon order history and matching/tags your Mint transactions\n",
            "django-oscar-amazon-payments (0.1)                 - This package provides integration between django-oscar and Amazon Payments (Login and Pay with Amazon).\n",
            "django-amazon-translate (0.1.1)                    - Utils for Django to translate both Models and Django gettext files using Amazon Translate.\n",
            "django-amazon-ses (3.0.2)                          - A Django email backend that uses Boto3 to interact with Amazon Simple Email Service (SES).\n",
            "amazon-management-page-parser (0.0.3)              - Amazon management page parsing tool.\n",
            "python-amazon-product-api (0.2.8)                  - A Python wrapper for the Amazon Product Advertising API.\n",
            "singer-tap-amazon-mws (0.0.3)                      - Singer.io tap for extracting data from the Amazon MWS API. Forked from https://github.com/fishtown-analytics/tap-amazon-mws\n",
            "python-amazon-mws-tools (0.0.4)                    - Wrapper modules to request and parse responses for python-amazon-mws.\n",
            "django-amazon-price-monitor (0.7)                  - Monitors prices of Amazon products via Product Advertising API\n",
            "amazon-ses-template-editor (0.5.1)                 - A tool for editing, uploading and testing Amazon SES email templates\n",
            "amazon-fees (1.0.0)                                - \n",
            "amazon-reviews (1.0.1)                             - \n",
            "amazon-lex-bot-test (0.1.1)                        - Test Amazon Lex bots easily by defining business requirements through conversations.\n",
            "odoo10-addon-connector-lengow-amazon (10.0.1.0.0)  - Module used to manage specification for Amazon marketplace\n",
            "scrapy-amazon-robot-middleware3 (0.3.5)            - Scrapy middleware module which uses image parsing to submit a captcha response to amazon.\n",
            "amazon-lex-bot-deploy (0.1.8)                      - The sample code provides a deploy function and an executable to easily deploy an Amazon Lex bot based on a Lex Schema file.\n",
            "scrapy-amazon-robot-middleware-jondot (0.2.5)      - Scrapy middleware module which uses image parsing to submit a captcha response to amazon.\n",
            "django-image-cropping-amazon-s3 (0.0.21)           - A reusable app for cropping images easily and non-destructively in Django when using Amazon s3 storage for media files\n",
            "checkout-by-amazon (0.1.6)                         - UNKNOWN\n",
            "helga-amazon-meta (1.1.0)                          - Provide information for related metadata\n",
            "python-amazon-device-messaging (0.0.1)             - Send push notifications to kindle fire devices using ADM.\n",
            "python-amazon-simple-product-api (2.2.11)          - A simple Python wrapper for the Amazon.com Product Advertising API\n",
            "amazonreviewscrap (0.1)                            - Amazon review scrapper\n",
            "AmazonAPIWrapper (0.0.11)                          - Amazon API Wrapper\n",
            "FPyS (0.5)                                         - Amazon FPS Library\n",
            "wishlist (0.2.2)                                   - Amazon wishlist scraper\n",
            "openlabs_amazon_mws (3.4.5.0)                      - Amazon MWS Integration\n",
            "fio_amazon_mws (3.4.14.3)                          - Amazon MWS Integration\n",
            "watchlist (0.0.7)                                  - Amazon wishlist watcher\n",
            "dynamo_engine (0.0.3)                              - An ORM for Amazon's DynamoDB\n",
            "awswizard (0.0.3)                                  - Amazon made simple.\n",
            "aws-trade-in (0.1)                                 - Amazon Trade-In Helper\n",
            "Pontus (3.0.0)                                     - Flask utility for Amazon S3.\n",
            "ddbmock (1.0.3)                                    - Amazon DynamoDB mock implementation\n",
            "s3transfer (0.3.3)                                 - An Amazon S3 Transfer Manager\n",
            "  INSTALLED: 0.3.3 (latest)\n",
            "Lector (0.0.3)                                     - An API for Amazon Kindle Data\n",
            "pyqldb (2.0.1)                                     - Python driver for Amazon QLDB\n",
            "shiftmanager (0.7.1)                               - Management tools for Amazon Redshift\n",
            "sqlalchemy-redshift (0.7.7)                        - Amazon Redshift Dialect for sqlalchemy\n",
            "amazonpy (1.0.5)                                   - amazon web scraping library.\n",
            "amazon_pay (2.6.0)                                 - Amazon Pay Python SDK\n",
            "redshift-unloader (0.1.4)                          - Unload utility for Amazon Redshift\n",
            "easyboto (0.2.1)                                   - Amazon Cloud made easy\n",
            "s3tk (0.3.0)                                       - A security toolkit for Amazon S3\n",
            "ScrapeAmazon (0.1)                                 - To scrape the reviews of products on Amazon\n",
            "s3mysqlbkp (1.3)                                   - MySQL backups to Amazon S3\n",
            "ddbc (0.1.0)                                       - Amazon DynamoDB as a cache store.\n",
            "redshift-sqlalchemy (0.4.1)                        - Amazon Redshift Dialect for sqlalchemy\n",
            "amazon_review_scraper (0.1.2)                      - A library to scrape Amazon Reviews\n",
            "utter-more (1.0.1)                                 - Creates utterances for Amazon's Alexa.\n",
            "s3recon (1.4.0)                                    - Amazon S3 bucket finder.\n",
            "Aduro (0.0.1a0)                                    - Progress tracker for Amazon Kindle\n",
            "boto-patch (2.38.0)                                - Amazon Web Services Library\n",
            "clusto-ec2 (0.6.4)                                 - Amazon EC2 extension for clusto\n",
            "sqlalchemy-redshift-psycopg2cffi (0.5.1.dev1)      - Amazon Redshift Dialect for sqlalchemy\n",
            "boto-mws (2.46.2)                                  - Amazon Web Services Library\n",
            "gc-boto (2.37.1)                                   - Amazon Web Services Library\n",
            "floresta (0.0.4)                                   - Amazon VPC deployment tool\n",
            "p3_amazon_jp_tool (0.1.28)                         - Amazon JP Sales Reports\n",
            "PyUpdater-S3-Plugin (4.1.2)                        - Amazon S3 plugin for PyUpdater\n",
            "pyawschart (0.2)                                   - Amazon CloudWatch data visualization\n",
            "clippings (0.5.0)                                  - Amazon Kindle clippings parser\n",
            "odoo13-addon-storage-backend-s3 (13.0.1.0.1.dev7)  - Implement amazon S3 Storage\n",
            "postman (0.6.0)                                    - Command line for Amazon SES\n",
            "room_with_a_view (0.1.4)                           - View management for Amazon's Redshift\n",
            "odoo12-addon-storage-backend-s3 (12.0.2.1.0)       - Implement amazon S3 Storage\n",
            "dramatiq-sqs (0.0.11)                              - An Amazon SQS broker for Dramatiq.\n",
            "amazon.ion (0.6.0)                                 - A Python implementation of Amazon Ion.\n",
            "dynamodb-mapper (1.8.1)                            - Object mapper for Amazon DynamoDB\n",
            "export-dynamodb (2.2.1)                            - A cli to export Amazon DynamoDb\n",
            "boto (2.49.0)                                      - Amazon Web Services Library\n",
            "  INSTALLED: 2.49.0 (latest)\n",
            "cys2n (0.1.1)                                      - Cython wrapper for Amazon s2n\n",
            "mkwheelhouse (2.0.0)                               - Amazon S3 wheelhouse generator\n",
            "fs-s3fs (1.1.1)                                    - Amazon S3 filesystem for PyFilesystem2\n",
            "ecs-deplojo (0.8.3)                                - Deployment tool for Amazon ECS\n",
            "django-redshift (0.2)                              - Amazon Redshift Dialect for django\n",
            "s3transfer-meiqia (0.1.10)                         - An Amazon S3 Transfer Manager\n",
            "sagemaker-pyspark (1.3.1)                          - Amazon SageMaker PySpark Bindings\n",
            "z42 (0.0.2)                                        - Zeroconf (mDNS) for Amazon EC2\n",
            "ec2selector (1.0.0)                                - Interactive prompt to select an AMI (Amazon Machine Image) from Amazon EC2\n",
            "EximSesTransport (0.4)                             - An Amazon SES transport for the Exim MTA.\n"
          ],
          "name": "stdout"
        }
      ]
    },
    {
      "cell_type": "code",
      "metadata": {
        "id": "c4bI8tR7KmjU",
        "colab_type": "code",
        "colab": {
          "base_uri": "https://localhost:8080/",
          "height": 1000
        },
        "outputId": "5fa255ca-c6fa-4c5b-c069-51022e92dbaf"
      },
      "source": [
        "pip list"
      ],
      "execution_count": 25,
      "outputs": [
        {
          "output_type": "stream",
          "text": [
            "Package                  Version        \n",
            "------------------------ ---------------\n",
            "absl-py                  0.9.0          \n",
            "alabaster                0.7.12         \n",
            "albumentations           0.1.12         \n",
            "altair                   4.1.0          \n",
            "asgiref                  3.2.7          \n",
            "astor                    0.8.1          \n",
            "astropy                  4.0.1.post1    \n",
            "astunparse               1.6.3          \n",
            "atari-py                 0.2.6          \n",
            "atomicwrites             1.3.0          \n",
            "attrs                    19.3.0         \n",
            "audioread                2.1.8          \n",
            "autograd                 1.3            \n",
            "Babel                    2.8.0          \n",
            "backcall                 0.1.0          \n",
            "beautifulsoup4           4.6.3          \n",
            "bleach                   3.1.4          \n",
            "blis                     0.4.1          \n",
            "bokeh                    1.4.0          \n",
            "boto                     2.49.0         \n",
            "boto3                    1.12.47        \n",
            "botocore                 1.15.47        \n",
            "Bottleneck               1.3.2          \n",
            "branca                   0.4.0          \n",
            "bs4                      0.0.1          \n",
            "CacheControl             0.12.6         \n",
            "cachetools               3.1.1          \n",
            "catalogue                1.0.0          \n",
            "certifi                  2020.4.5.1     \n",
            "cffi                     1.14.0         \n",
            "chainer                  6.5.0          \n",
            "chardet                  3.0.4          \n",
            "click                    7.1.2          \n",
            "cloudpickle              1.3.0          \n",
            "cmake                    3.12.0         \n",
            "cmdstanpy                0.4.0          \n",
            "colorlover               0.3.0          \n",
            "community                1.0.0b1        \n",
            "contextlib2              0.5.5          \n",
            "convertdate              2.2.0          \n",
            "coverage                 3.7.1          \n",
            "coveralls                0.5            \n",
            "crcmod                   1.7            \n",
            "cufflinks                0.17.3         \n",
            "cvxopt                   1.2.5          \n",
            "cvxpy                    1.0.31         \n",
            "cycler                   0.10.0         \n",
            "cymem                    2.0.3          \n",
            "Cython                   0.29.17        \n",
            "daft                     0.0.4          \n",
            "dask                     2.12.0         \n",
            "dataclasses              0.7            \n",
            "datascience              0.10.6         \n",
            "decorator                4.4.2          \n",
            "defusedxml               0.6.0          \n",
            "descartes                1.1.0          \n",
            "dill                     0.3.1.1        \n",
            "distributed              1.25.3         \n",
            "Django                   3.0.5          \n",
            "dlib                     19.18.0        \n",
            "docopt                   0.6.2          \n",
            "docutils                 0.15.2         \n",
            "dopamine-rl              1.0.5          \n",
            "earthengine-api          0.1.219        \n",
            "easydict                 1.9            \n",
            "ecos                     2.0.7.post1    \n",
            "editdistance             0.5.3          \n",
            "en-core-web-sm           2.2.5          \n",
            "entrypoints              0.3            \n",
            "ephem                    3.7.7.1        \n",
            "et-xmlfile               1.0.1          \n",
            "fa2                      0.3.5          \n",
            "fancyimpute              0.4.3          \n",
            "fastai                   1.0.60         \n",
            "fastdtw                  0.3.4          \n",
            "fastprogress             0.2.3          \n",
            "fastrlock                0.4            \n",
            "fbprophet                0.6            \n",
            "feather-format           0.4.1          \n",
            "featuretools             0.4.1          \n",
            "filelock                 3.0.12         \n",
            "firebase-admin           4.1.0          \n",
            "fix-yahoo-finance        0.0.22         \n",
            "Flask                    1.1.2          \n",
            "folium                   0.8.3          \n",
            "fsspec                   0.7.3          \n",
            "future                   0.16.0         \n",
            "gast                     0.3.3          \n",
            "GDAL                     2.2.2          \n",
            "gdown                    3.6.4          \n",
            "gensim                   3.6.0          \n",
            "geographiclib            1.50           \n",
            "geopy                    1.17.0         \n",
            "gin-config               0.3.0          \n",
            "glob2                    0.7            \n",
            "google                   2.0.3          \n",
            "google-api-core          1.16.0         \n",
            "google-api-python-client 1.7.12         \n",
            "google-auth              1.7.2          \n",
            "google-auth-httplib2     0.0.3          \n",
            "google-auth-oauthlib     0.4.1          \n",
            "google-cloud-bigquery    1.21.0         \n",
            "google-cloud-core        1.0.3          \n",
            "google-cloud-datastore   1.8.0          \n",
            "google-cloud-firestore   1.6.2          \n",
            "google-cloud-language    1.2.0          \n",
            "google-cloud-storage     1.18.1         \n",
            "google-cloud-translate   1.5.0          \n",
            "google-colab             1.0.0          \n",
            "google-pasta             0.2.0          \n",
            "google-resumable-media   0.4.1          \n",
            "googleapis-common-protos 1.51.0         \n",
            "googledrivedownloader    0.4            \n",
            "graphviz                 0.10.1         \n",
            "grpcio                   1.28.1         \n",
            "gspread                  3.0.1          \n",
            "gspread-dataframe        3.0.6          \n",
            "gym                      0.17.1         \n",
            "h5py                     2.10.0         \n",
            "HeapDict                 1.0.1          \n",
            "holidays                 0.9.12         \n",
            "html5lib                 1.0.1          \n",
            "httpimport               0.5.18         \n",
            "httplib2                 0.17.3         \n",
            "httplib2shim             0.0.3          \n",
            "humanize                 0.5.1          \n",
            "hyperopt                 0.1.2          \n",
            "ideep4py                 2.0.0.post3    \n",
            "idna                     2.9            \n",
            "image                    1.5.31         \n",
            "imageio                  2.4.1          \n",
            "imagesize                1.2.0          \n",
            "imbalanced-learn         0.4.3          \n",
            "imblearn                 0.0            \n",
            "imgaug                   0.2.9          \n",
            "importlib-metadata       1.6.0          \n",
            "imutils                  0.5.3          \n",
            "inflect                  2.1.0          \n",
            "intel-openmp             2020.0.133     \n",
            "intervaltree             2.1.0          \n",
            "ipykernel                4.10.1         \n",
            "ipython                  5.5.0          \n",
            "ipython-genutils         0.2.0          \n",
            "ipython-sql              0.3.9          \n",
            "ipywidgets               7.5.1          \n",
            "itsdangerous             1.1.0          \n",
            "jax                      0.1.64         \n",
            "jaxlib                   0.1.45         \n",
            "jdcal                    1.4.1          \n",
            "jedi                     0.17.0         \n",
            "jieba                    0.42.1         \n",
            "Jinja2                   2.11.2         \n",
            "jmespath                 0.9.5          \n",
            "joblib                   0.14.1         \n",
            "jpeg4py                  0.1.4          \n",
            "jsonschema               2.6.0          \n",
            "jupyter                  1.0.0          \n",
            "jupyter-client           5.3.4          \n",
            "jupyter-console          5.2.0          \n",
            "jupyter-core             4.6.3          \n",
            "kaggle                   1.5.6          \n",
            "kapre                    0.1.3.1        \n",
            "Keras                    2.3.1          \n",
            "Keras-Applications       1.0.8          \n",
            "Keras-Preprocessing      1.1.0          \n",
            "keras-vis                0.4.1          \n",
            "kiwisolver               1.2.0          \n",
            "knnimpute                0.1.0          \n",
            "librosa                  0.6.3          \n",
            "lightgbm                 2.2.3          \n",
            "llvmlite                 0.31.0         \n",
            "lmdb                     0.98           \n",
            "lucid                    0.3.8          \n",
            "LunarCalendar            0.0.9          \n",
            "lxml                     4.2.6          \n",
            "Markdown                 3.2.1          \n",
            "MarkupSafe               1.1.1          \n",
            "matplotlib               3.2.1          \n",
            "matplotlib-venn          0.11.5         \n",
            "missingno                0.4.2          \n",
            "mistune                  0.8.4          \n",
            "mizani                   0.6.0          \n",
            "mkl                      2019.0         \n",
            "mlxtend                  0.14.0         \n",
            "more-itertools           8.2.0          \n",
            "moviepy                  0.2.3.5        \n",
            "mpmath                   1.1.0          \n",
            "msgpack                  1.0.0          \n",
            "multiprocess             0.70.9         \n",
            "multitasking             0.0.9          \n",
            "murmurhash               1.0.2          \n",
            "music21                  5.5.0          \n",
            "natsort                  5.5.0          \n",
            "nbconvert                5.6.1          \n",
            "nbformat                 5.0.6          \n",
            "networkx                 2.4            \n",
            "nibabel                  3.0.2          \n",
            "nltk                     3.2.5          \n",
            "notebook                 5.2.2          \n",
            "np-utils                 0.5.12.1       \n",
            "numba                    0.48.0         \n",
            "numexpr                  2.7.1          \n",
            "numpy                    1.18.3         \n",
            "nvidia-ml-py3            7.352.0        \n",
            "oauth2client             4.1.3          \n",
            "oauthlib                 3.1.0          \n",
            "okgrade                  0.4.3          \n",
            "opencv-contrib-python    4.1.2.30       \n",
            "opencv-python            4.1.2.30       \n",
            "openpyxl                 2.5.9          \n",
            "opt-einsum               3.2.1          \n",
            "osqp                     0.6.1          \n",
            "packaging                20.3           \n",
            "palettable               3.3.0          \n",
            "pandas                   1.0.3          \n",
            "pandas-datareader        0.8.1          \n",
            "pandas-gbq               0.11.0         \n",
            "pandas-profiling         1.4.1          \n",
            "pandocfilters            1.4.2          \n",
            "parso                    0.7.0          \n",
            "pathlib                  1.0.1          \n",
            "patsy                    0.5.1          \n",
            "pexpect                  4.8.0          \n",
            "pickleshare              0.7.5          \n",
            "Pillow                   7.0.0          \n",
            "pip                      19.3.1         \n",
            "pip-tools                4.5.1          \n",
            "plac                     1.1.3          \n",
            "plotly                   4.4.1          \n",
            "plotnine                 0.6.0          \n",
            "pluggy                   0.7.1          \n",
            "portpicker               1.3.1          \n",
            "prefetch-generator       1.0.1          \n",
            "preshed                  3.0.2          \n",
            "prettytable              0.7.2          \n",
            "progressbar2             3.38.0         \n",
            "prometheus-client        0.7.1          \n",
            "promise                  2.3            \n",
            "prompt-toolkit           1.0.18         \n",
            "protobuf                 3.10.0         \n",
            "psutil                   5.4.8          \n",
            "psycopg2                 2.7.6.1        \n",
            "ptvsd                    5.0.0a12       \n",
            "ptyprocess               0.6.0          \n",
            "py                       1.8.1          \n",
            "pyarrow                  0.14.1         \n",
            "pyasn1                   0.4.8          \n",
            "pyasn1-modules           0.2.8          \n",
            "pycocotools              2.0.0          \n",
            "pycparser                2.20           \n",
            "pydata-google-auth       1.1.0          \n",
            "pydot                    1.3.0          \n",
            "pydot-ng                 2.0.0          \n",
            "pydotplus                2.0.2          \n",
            "PyDrive                  1.3.1          \n",
            "pyemd                    0.5.1          \n",
            "pyglet                   1.5.0          \n",
            "Pygments                 2.1.3          \n",
            "pygobject                3.26.1         \n",
            "pymc3                    3.7            \n",
            "PyMeeus                  0.3.7          \n",
            "pymongo                  3.10.1         \n",
            "pymystem3                0.2.0          \n",
            "PyOpenGL                 3.1.5          \n",
            "pyparsing                2.4.7          \n",
            "pyrsistent               0.16.0         \n",
            "pysndfile                1.3.8          \n",
            "PySocks                  1.7.1          \n",
            "pystan                   2.19.1.1       \n",
            "pytest                   3.6.4          \n",
            "python-apt               1.6.5+ubuntu0.2\n",
            "python-chess             0.23.11        \n",
            "python-dateutil          2.8.1          \n",
            "python-louvain           0.14           \n",
            "python-slugify           4.0.0          \n",
            "python-utils             2.4.0          \n",
            "pytz                     2018.9         \n",
            "PyWavelets               1.1.1          \n",
            "PyYAML                   3.13           \n",
            "pyzmq                    19.0.0         \n",
            "qtconsole                4.7.3          \n",
            "QtPy                     1.9.0          \n",
            "regex                    2019.12.20     \n",
            "requests                 2.23.0         \n",
            "requests-oauthlib        1.3.0          \n",
            "resampy                  0.2.2          \n",
            "retrying                 1.3.3          \n",
            "rpy2                     3.2.7          \n",
            "rsa                      4.0            \n",
            "s3fs                     0.4.2          \n",
            "s3transfer               0.3.3          \n",
            "scikit-image             0.16.2         \n",
            "scikit-learn             0.22.2.post1   \n",
            "scipy                    1.4.1          \n",
            "screen-resolution-extra  0.0.0          \n",
            "scs                      2.1.2          \n",
            "seaborn                  0.10.1         \n",
            "Send2Trash               1.5.0          \n",
            "setuptools               46.1.3         \n",
            "setuptools-git           1.2            \n",
            "Shapely                  1.7.0          \n",
            "simplegeneric            0.8.1          \n",
            "six                      1.12.0         \n",
            "sklearn                  0.0            \n",
            "sklearn-pandas           1.8.0          \n",
            "smart-open               1.11.1         \n",
            "snowballstemmer          2.0.0          \n",
            "sortedcontainers         2.1.0          \n",
            "spacy                    2.2.4          \n",
            "Sphinx                   1.8.5          \n",
            "sphinxcontrib-websupport 1.2.1          \n",
            "SQLAlchemy               1.3.16         \n",
            "sqlparse                 0.3.1          \n",
            "srsly                    1.0.2          \n",
            "statsmodels              0.10.2         \n",
            "sympy                    1.1.1          \n",
            "tables                   3.4.4          \n",
            "tabulate                 0.8.7          \n",
            "tbb                      2020.0.133     \n",
            "tblib                    1.6.0          \n",
            "tensorboard              2.2.1          \n",
            "tensorboard-plugin-wit   1.6.0.post3    \n",
            "tensorboardcolab         0.0.22         \n",
            "tensorflow               2.2.0rc3       \n",
            "tensorflow-addons        0.8.3          \n",
            "tensorflow-datasets      2.1.0          \n",
            "tensorflow-estimator     2.2.0          \n",
            "tensorflow-gcs-config    2.1.8          \n",
            "tensorflow-hub           0.8.0          \n",
            "tensorflow-metadata      0.21.2         \n",
            "tensorflow-privacy       0.2.2          \n",
            "tensorflow-probability   0.10.0rc0      \n",
            "termcolor                1.1.0          \n",
            "terminado                0.8.3          \n",
            "testpath                 0.4.4          \n",
            "text-unidecode           1.3            \n",
            "textblob                 0.15.3         \n",
            "textgenrnn               1.4.1          \n",
            "Theano                   1.0.4          \n",
            "thinc                    7.4.0          \n",
            "toolz                    0.10.0         \n",
            "torch                    1.5.0+cu101    \n",
            "torchsummary             1.5.1          \n",
            "torchtext                0.3.1          \n",
            "torchvision              0.6.0+cu101    \n",
            "tornado                  4.5.3          \n",
            "tqdm                     4.38.0         \n",
            "traitlets                4.3.3          \n",
            "tweepy                   3.6.0          \n",
            "typeguard                2.7.1          \n",
            "typing                   3.6.6          \n",
            "typing-extensions        3.6.6          \n",
            "tzlocal                  1.5.1          \n",
            "umap-learn               0.4.1          \n",
            "uritemplate              3.0.1          \n",
            "urllib3                  1.24.3         \n",
            "vega-datasets            0.8.0          \n",
            "wasabi                   0.6.0          \n",
            "wcwidth                  0.1.9          \n",
            "webencodings             0.5.1          \n",
            "Werkzeug                 1.0.1          \n",
            "wheel                    0.34.2         \n",
            "widgetsnbextension       3.5.1          \n",
            "wordcloud                1.5.0          \n",
            "wrapt                    1.12.1         \n",
            "xarray                   0.15.1         \n",
            "xgboost                  0.90           \n",
            "xkit                     0.0.0          \n",
            "xlrd                     1.1.0          \n",
            "xlwt                     1.3.0          \n",
            "yellowbrick              0.9.1          \n",
            "zict                     2.0.0          \n",
            "zipp                     3.1.0          \n"
          ],
          "name": "stdout"
        }
      ]
    },
    {
      "cell_type": "code",
      "metadata": {
        "id": "uI6rV547KsoS",
        "colab_type": "code",
        "colab": {
          "base_uri": "https://localhost:8080/",
          "height": 1000
        },
        "outputId": "a546f7ec-09f8-44b8-a005-bf786747661e"
      },
      "source": [
        "pip list --outdated"
      ],
      "execution_count": 26,
      "outputs": [
        {
          "output_type": "stream",
          "text": [
            "Package                  Version    Latest      Type \n",
            "------------------------ ---------- ----------- -----\n",
            "albumentations           0.1.12     0.4.5       sdist\n",
            "atomicwrites             1.3.0      1.4.0       wheel\n",
            "beautifulsoup4           4.6.3      4.9.0       wheel\n",
            "bleach                   3.1.4      3.1.5       wheel\n",
            "bokeh                    1.4.0      2.0.2       sdist\n",
            "boto3                    1.12.47    1.13.1      wheel\n",
            "botocore                 1.15.47    1.16.1      wheel\n",
            "cachetools               3.1.1      4.1.0       wheel\n",
            "catalogue                1.0.0      2.0.0       wheel\n",
            "chainer                  6.5.0      7.4.0       sdist\n",
            "cloudpickle              1.3.0      1.4.1       wheel\n",
            "cmake                    3.12.0     3.17.2      wheel\n",
            "cmdstanpy                0.4.0      0.9.5       wheel\n",
            "contextlib2              0.5.5      0.6.0.post1 wheel\n",
            "coverage                 3.7.1      5.1         wheel\n",
            "coveralls                0.5        2.0.0       wheel\n",
            "daft                     0.0.4      0.1.0       sdist\n",
            "dask                     2.12.0     2.15.0      wheel\n",
            "datascience              0.10.6     0.15.4      sdist\n",
            "distributed              1.25.3     2.15.2      wheel\n",
            "dlib                     19.18.0    19.19.0     sdist\n",
            "docutils                 0.15.2     0.16        wheel\n",
            "dopamine-rl              1.0.5      3.0.1       wheel\n",
            "earthengine-api          0.1.219    0.1.220     sdist\n",
            "fancyimpute              0.4.3      0.5.4       sdist\n",
            "fastai                   1.0.60     1.0.61      wheel\n",
            "featuretools             0.4.1      0.14.0      wheel\n",
            "firebase-admin           4.1.0      4.2.0       wheel\n",
            "fix-yahoo-finance        0.0.22     0.1.37      sdist\n",
            "folium                   0.8.3      0.10.1      wheel\n",
            "future                   0.16.0     0.18.2      sdist\n",
            "GDAL                     2.2.2      3.0.4       sdist\n",
            "gdown                    3.6.4      3.10.3      sdist\n",
            "gensim                   3.6.0      3.8.2       wheel\n",
            "geopy                    1.17.0     1.21.0      wheel\n",
            "google-api-core          1.16.0     1.17.0      wheel\n",
            "google-api-python-client 1.7.12     1.8.2       wheel\n",
            "google-auth              1.7.2      1.14.1      wheel\n",
            "google-cloud-bigquery    1.21.0     1.24.0      wheel\n",
            "google-cloud-core        1.0.3      1.3.0       wheel\n",
            "google-cloud-datastore   1.8.0      1.12.0      wheel\n",
            "google-cloud-language    1.2.0      1.3.0       wheel\n",
            "google-cloud-storage     1.18.1     1.28.0      wheel\n",
            "google-cloud-translate   1.5.0      2.0.1       wheel\n",
            "google-resumable-media   0.4.1      0.5.0       wheel\n",
            "graphviz                 0.10.1     0.14        wheel\n",
            "gspread                  3.0.1      3.6.0       wheel\n",
            "holidays                 0.9.12     0.10.2      sdist\n",
            "httpimport               0.5.18     0.7.2       wheel\n",
            "humanize                 0.5.1      2.4.0       wheel\n",
            "hyperopt                 0.1.2      0.2.4       wheel\n",
            "imageio                  2.4.1      2.8.0       wheel\n",
            "imbalanced-learn         0.4.3      0.6.2       wheel\n",
            "imgaug                   0.2.9      0.4.0       wheel\n",
            "inflect                  2.1.0      4.1.0       wheel\n",
            "intervaltree             2.1.0      3.0.2       sdist\n",
            "ipykernel                4.10.1     5.2.1       wheel\n",
            "ipython                  5.5.0      7.14.0      wheel\n",
            "ipython-sql              0.3.9      0.4.0       wheel\n",
            "jax                      0.1.64     0.1.65      sdist\n",
            "jsonschema               2.6.0      3.2.0       wheel\n",
            "jupyter-client           5.3.4      6.1.3       wheel\n",
            "jupyter-console          5.2.0      6.1.0       wheel\n",
            "kapre                    0.1.3.1    0.1.7       sdist\n",
            "librosa                  0.6.3      0.7.2       sdist\n",
            "lightgbm                 2.2.3      2.3.1       wheel\n",
            "llvmlite                 0.31.0     0.32.0      wheel\n",
            "lxml                     4.2.6      4.5.0       wheel\n",
            "mlxtend                  0.14.0     0.17.2      wheel\n",
            "moviepy                  0.2.3.5    1.0.2       sdist\n",
            "music21                  5.5.0      5.7.2       sdist\n",
            "natsort                  5.5.0      7.0.1       wheel\n",
            "nibabel                  3.0.2      3.1.0       wheel\n",
            "nltk                     3.2.5      3.5         sdist\n",
            "notebook                 5.2.2      6.0.3       wheel\n",
            "numba                    0.48.0     0.49.0      wheel\n",
            "numpy                    1.18.3     1.18.4      wheel\n",
            "opencv-contrib-python    4.1.2.30   4.2.0.34    wheel\n",
            "opencv-python            4.1.2.30   4.2.0.34    wheel\n",
            "openpyxl                 2.5.9      3.0.3       sdist\n",
            "pandas-gbq               0.11.0     0.13.1      wheel\n",
            "pandas-profiling         1.4.1      2.6.0       wheel\n",
            "Pillow                   7.0.0      7.1.2       wheel\n",
            "pip                      19.3.1     20.1        wheel\n",
            "pip-tools                4.5.1      5.1.1       wheel\n",
            "plotly                   4.4.1      4.6.0       wheel\n",
            "pluggy                   0.7.1      0.13.1      wheel\n",
            "progressbar2             3.38.0     3.51.3      wheel\n",
            "prompt-toolkit           1.0.18     3.0.5       wheel\n",
            "protobuf                 3.10.0     3.11.3      wheel\n",
            "psutil                   5.4.8      5.7.0       sdist\n",
            "psycopg2                 2.7.6.1    2.8.5       sdist\n",
            "pyarrow                  0.14.1     0.17.0      wheel\n",
            "pydot                    1.3.0      1.4.1       wheel\n",
            "pyglet                   1.5.0      1.5.5       wheel\n",
            "Pygments                 2.1.3      2.6.1       wheel\n",
            "pygobject                3.26.1     3.36.0      sdist\n",
            "pymc3                    3.7        3.8         wheel\n",
            "pysndfile                1.3.8      1.4.3       sdist\n",
            "pytest                   3.6.4      5.4.1       wheel\n",
            "python-chess             0.23.11    0.31.0      wheel\n",
            "pytz                     2018.9     2020.1      wheel\n",
            "PyYAML                   3.13       5.3.1       sdist\n",
            "regex                    2019.12.20 2020.4.4    wheel\n",
            "rpy2                     3.2.7      3.3.2       sdist\n",
            "six                      1.12.0     1.14.0      wheel\n",
            "smart-open               1.11.1     2.0.0       sdist\n",
            "Sphinx                   1.8.5      3.0.3       wheel\n",
            "sphinxcontrib-websupport 1.2.1      1.2.2       wheel\n",
            "srsly                    1.0.2      2.0.1       wheel\n",
            "statsmodels              0.10.2     0.11.1      wheel\n",
            "sympy                    1.1.1      1.5.1       wheel\n",
            "tables                   3.4.4      3.6.1       wheel\n",
            "tensorflow-addons        0.8.3      0.9.1       wheel\n",
            "tensorflow-datasets      2.1.0      3.1.0       wheel\n",
            "tensorflow-privacy       0.2.2      0.3.0       wheel\n",
            "textgenrnn               1.4.1      2.0.0       sdist\n",
            "torchtext                0.3.1      0.6.0       wheel\n",
            "tornado                  4.5.3      6.0.4       sdist\n",
            "tqdm                     4.38.0     4.46.0      wheel\n",
            "tweepy                   3.6.0      3.8.0       wheel\n",
            "typing                   3.6.6      3.7.4.1     wheel\n",
            "typing-extensions        3.6.6      3.7.4.2     wheel\n",
            "tzlocal                  1.5.1      2.0.0       wheel\n",
            "umap-learn               0.4.1      0.4.2       sdist\n",
            "urllib3                  1.24.3     1.25.9      wheel\n",
            "wordcloud                1.5.0      1.7.0       wheel\n",
            "xgboost                  0.90       1.0.2       wheel\n",
            "xlrd                     1.1.0      1.2.0       wheel\n",
            "yellowbrick              0.9.1      1.1         wheel\n"
          ],
          "name": "stdout"
        }
      ]
    },
    {
      "cell_type": "code",
      "metadata": {
        "id": "ganlDM6jKwTQ",
        "colab_type": "code",
        "colab": {
          "base_uri": "https://localhost:8080/",
          "height": 34
        },
        "outputId": "9bc9384e-5812-4805-c7a4-da6821c0dfa8"
      },
      "source": [
        "pip uninstall xxx"
      ],
      "execution_count": 27,
      "outputs": [
        {
          "output_type": "stream",
          "text": [
            "\u001b[33mWARNING: Skipping xxx as it is not installed.\u001b[0m\n"
          ],
          "name": "stdout"
        }
      ]
    },
    {
      "cell_type": "code",
      "metadata": {
        "id": "zCFyKiwwK-eb",
        "colab_type": "code",
        "colab": {}
      },
      "source": [
        "pip freeze > requirements.txt"
      ],
      "execution_count": 0,
      "outputs": []
    },
    {
      "cell_type": "code",
      "metadata": {
        "id": "UFgzOmo0LIjf",
        "colab_type": "code",
        "colab": {}
      },
      "source": [
        ""
      ],
      "execution_count": 0,
      "outputs": []
    }
  ]
}